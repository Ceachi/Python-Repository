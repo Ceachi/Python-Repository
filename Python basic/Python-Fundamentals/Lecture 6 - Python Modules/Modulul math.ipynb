{
 "cells": [
  {
   "cell_type": "code",
   "execution_count": null,
   "metadata": {},
   "outputs": [],
   "source": [
    "'''\n",
    "Cu acest modul obținem acces la multiple funcții matematice\n",
    "Math.ceil\n",
    "\n",
    "Math.floor\n",
    "\n",
    "Math.factorial\n",
    "\n",
    "Math.exp\n",
    "\n",
    "Math.log\n",
    "\n",
    "Math.sqrt\n",
    "\n",
    "Math.pow\n",
    "\n",
    "Math.cos\n",
    "\n",
    "Math.sin\n",
    "\n",
    "Math.tan\n",
    "\n",
    "Math.pi\n",
    "\n",
    "Math.e\n",
    "\n",
    "Math.inf\n",
    "\n",
    "-math.inf\n",
    "\n",
    "math.nan\n",
    "\n",
    "\n",
    "\n",
    "'''"
   ]
  }
 ],
 "metadata": {
  "kernelspec": {
   "display_name": "Python 3",
   "language": "python",
   "name": "python3"
  },
  "language_info": {
   "codemirror_mode": {
    "name": "ipython",
    "version": 3
   },
   "file_extension": ".py",
   "mimetype": "text/x-python",
   "name": "python",
   "nbconvert_exporter": "python",
   "pygments_lexer": "ipython3",
   "version": "3.6.9"
  }
 },
 "nbformat": 4,
 "nbformat_minor": 2
}

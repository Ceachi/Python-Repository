{
 "cells": [
  {
   "cell_type": "code",
   "execution_count": 1,
   "metadata": {},
   "outputs": [],
   "source": [
    "try:\n",
    "    import cPickle as pickle\n",
    "except:\n",
    "    import pickle\n",
    "    \n",
    "import sys"
   ]
  },
  {
   "cell_type": "code",
   "execution_count": 7,
   "metadata": {},
   "outputs": [
    {
     "name": "stdout",
     "output_type": "stream",
     "text": [
      "SRIERE: %s (%s) ('unu', 'unu')\n",
      "Obiectul serializat arata acum in felul urmator:\n",
      "<__main__.BaseClass object at 0x00000198C4D4CCF8>\n",
      "SRIERE: %s (%s) ('doi', 'iod')\n",
      "Obiectul serializat arata acum in felul urmator:\n",
      "<__main__.BaseClass object at 0x00000198C4D4CDD8>\n",
      "SRIERE: %s (%s) ('trei', 'iert')\n",
      "Obiectul serializat arata acum in felul urmator:\n",
      "<__main__.BaseClass object at 0x00000198C4D506A0>\n"
     ]
    }
   ],
   "source": [
    "import pprint\n",
    "class BaseClass(object):\n",
    "    \n",
    "    def __init__(self, name):\n",
    "        \n",
    "        self.name = name\n",
    "        l = list(name)\n",
    "        l.reverse()\n",
    "        self.name_reverse = ''.join(l)\n",
    "        return\n",
    "\n",
    "    \n",
    "if __name__ == '__main__':      \n",
    "    data = []\n",
    "    data.append(BaseClass('unu'))\n",
    "    data.append(BaseClass('doi'))\n",
    "    data.append(BaseClass('trei'))\n",
    "    \n",
    "    try:\n",
    "        filename = 'test.txt' #sys.argv[1]\n",
    "    except:\n",
    "        raise RuntimeError('Scriptul trebuie sa fie lansat cu un argument %s' % sys.argv[0])\n",
    "    out_string = open(filename, 'wb')\n",
    "    \n",
    "    try:\n",
    "        for o in data:\n",
    "            print('SRIERE: %s (%s)', (o.name, o.name_reverse))\n",
    "            pickle.dump(o, out_string)\n",
    "            print(\"Obiectul serializat arata acum in felul urmator:\")\n",
    "            pprint.pprint(o)\n",
    "    finally:\n",
    "        out_string.close()\n",
    "        "
   ]
  },
  {
   "cell_type": "code",
   "execution_count": 8,
   "metadata": {},
   "outputs": [
    {
     "name": "stdout",
     "output_type": "stream",
     "text": [
      "CITESTE unu (unu)\n",
      "CITESTE doi (iod)\n",
      "CITESTE trei (iert)\n"
     ]
    }
   ],
   "source": [
    "'''\n",
    "Sa se creeze un alt program numit \"obiect_unpickle_load.py\", care \n",
    "face deserealizare la instantele serializate mai sus\n",
    "'''\n",
    "try:\n",
    "    import cPickle as pickle\n",
    "except:\n",
    "    import pickle\n",
    "    \n",
    "import pprint\n",
    "import sys\n",
    "\n",
    "try:\n",
    "    filename = 'test.txt' #sys.argv[1]\n",
    "except:\n",
    "    raise RuntimeError('Scriptul trebuie sa fie lansat cu un argument %s' % sys.arv[0])\n",
    "\n",
    "    \n",
    "in_string = open(filename, 'rb')\n",
    "\n",
    "try:\n",
    "    while True:\n",
    "        try:\n",
    "            o = pickle.load(in_string)\n",
    "        except EOFError:\n",
    "            break\n",
    "        else:\n",
    "            print(\"CITESTE %s (%s)\" % (o.name, o.name_reverse))\n",
    "            \n",
    "finally:\n",
    "    in_string.close()"
   ]
  },
  {
   "cell_type": "code",
   "execution_count": null,
   "metadata": {},
   "outputs": [],
   "source": []
  }
 ],
 "metadata": {
  "kernelspec": {
   "display_name": "Python 3",
   "language": "python",
   "name": "python3"
  },
  "language_info": {
   "codemirror_mode": {
    "name": "ipython",
    "version": 3
   },
   "file_extension": ".py",
   "mimetype": "text/x-python",
   "name": "python",
   "nbconvert_exporter": "python",
   "pygments_lexer": "ipython3",
   "version": "3.6.9"
  }
 },
 "nbformat": 4,
 "nbformat_minor": 2
}

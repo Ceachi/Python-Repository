{
 "cells": [
  {
   "cell_type": "markdown",
   "metadata": {},
   "source": [
    "## Module pentru timp"
   ]
  },
  {
   "cell_type": "code",
   "execution_count": 1,
   "metadata": {},
   "outputs": [
    {
     "data": {
      "text/plain": [
       "'\\n\\n1) Time -> cu ajutorul acestui modul, putem lucra cu timpii de ceas(am putea folosi\\n            si modulul date, dar cel de jos e mai avantajos)\\n\\n2) Datetime -> cu ajutorul acestui modul putem lucra cu date/time\\n\\n3) Calendar -> cu ajutorul acestui modul putem accesa calendarul\\n\\n'"
      ]
     },
     "execution_count": 1,
     "metadata": {},
     "output_type": "execute_result"
    }
   ],
   "source": [
    "'''\n",
    "\n",
    "1) Time -> cu ajutorul acestui modul, putem lucra cu timpii de ceas(am putea folosi\n",
    "            si modulul date, dar cel de jos e mai avantajos)\n",
    "\n",
    "2) Datetime -> cu ajutorul acestui modul putem lucra cu date/time\n",
    "\n",
    "3) Calendar -> cu ajutorul acestui modul putem accesa calendarul\n",
    "\n",
    "'''"
   ]
  },
  {
   "cell_type": "markdown",
   "metadata": {},
   "source": [
    "## Exemplu 1"
   ]
  },
  {
   "cell_type": "code",
   "execution_count": 2,
   "metadata": {},
   "outputs": [
    {
     "name": "stdout",
     "output_type": "stream",
     "text": [
      "Timpul curent este: 1577620327.3606784\n",
      "Timpul curent este: Sun Dec 29 03:52:07 2019\n",
      "Timpul curent plus 30 de secunde: Sun Dec 29 03:52:37 2019\n"
     ]
    }
   ],
   "source": [
    "import time\n",
    "\n",
    "print('Timpul curent este: ' + str(time.time()))\n",
    "\n",
    "print('Timpul curent este: ' + str(time.ctime()))\n",
    "\n",
    "later = time.time() + 30\n",
    "\n",
    "print('Timpul curent plus 30 de secunde: ' + str(time.ctime(later)))\n"
   ]
  },
  {
   "cell_type": "code",
   "execution_count": 3,
   "metadata": {},
   "outputs": [
    {
     "data": {
      "text/plain": [
       "'\\nSe observa ca intre time si ctime, nu e nicio diferenca, doar ca ctime,\\nne ajuta daca vrem sa adunam alti timpi la timpul curent\\n\\n'"
      ]
     },
     "execution_count": 3,
     "metadata": {},
     "output_type": "execute_result"
    }
   ],
   "source": [
    "'''\n",
    "Se observa ca intre time si ctime, nu e nicio diferenca, doar ca ctime,\n",
    "ne ajuta daca vrem sa adunam alti timpi la timpul curent\n",
    "\n",
    "'''"
   ]
  },
  {
   "cell_type": "markdown",
   "metadata": {},
   "source": [
    "## Exemplu 2"
   ]
  },
  {
   "cell_type": "code",
   "execution_count": 5,
   "metadata": {},
   "outputs": [
    {
     "name": "stdout",
     "output_type": "stream",
     "text": [
      "Sun Dec 29 03:53:37 2019\n",
      "time.struct_time(tm_year=2019, tm_mon=12, tm_mday=29, tm_hour=3, tm_min=53, tm_sec=37, tm_wday=6, tm_yday=363, tm_isdst=-1)\n",
      "Sun Dec 29 03:53:37 2019\n"
     ]
    }
   ],
   "source": [
    "import time\n",
    "\n",
    " \n",
    "\n",
    "timpul_prezent = time.ctime()\n",
    "\n",
    "print(timpul_prezent)\n",
    "\n",
    "timpul_parsat = time.strptime(timpul_prezent)\n",
    "\n",
    "print(timpul_parsat)\n",
    "\n",
    "print(time.strftime(\"%a %b %d %H:%M:%S %Y\", timpul_parsat))"
   ]
  },
  {
   "cell_type": "code",
   "execution_count": 6,
   "metadata": {},
   "outputs": [
    {
     "data": {
      "text/plain": [
       "'\\nSe pot observa cele două funcții strptime și strftime. \\nPrima convertește timpul \\nîntr-o structură apoi strftime încarcă structura înapoi în timp.\\n\\n'"
      ]
     },
     "execution_count": 6,
     "metadata": {},
     "output_type": "execute_result"
    }
   ],
   "source": [
    "'''\n",
    "Se pot observa cele două funcții strptime și strftime. \n",
    "Prima convertește timpul \n",
    "într-o structură apoi strftime încarcă structura înapoi în timp.\n",
    "\n",
    "'''"
   ]
  },
  {
   "cell_type": "markdown",
   "metadata": {},
   "source": [
    "## Exemplu 3"
   ]
  },
  {
   "cell_type": "code",
   "execution_count": 9,
   "metadata": {},
   "outputs": [
    {
     "name": "stdout",
     "output_type": "stream",
     "text": [
      "Default :\n",
      "\tTZ    : (not set)\n",
      "\ttzname: ('Pacific Standard Time', 'Pacific Daylight Time')\n",
      "\tZone  : 28800 (8)\n",
      "\tDST   : 1\n",
      "\tTime  : Sun Dec 29 03:55:16 2019\n"
     ]
    },
    {
     "ename": "AttributeError",
     "evalue": "module 'time' has no attribute 'tzset'",
     "output_type": "error",
     "traceback": [
      "\u001b[1;31m---------------------------------------------------------------------------\u001b[0m",
      "\u001b[1;31mAttributeError\u001b[0m                            Traceback (most recent call last)",
      "\u001b[1;32m<ipython-input-9-9428f1a9e1a6>\u001b[0m in \u001b[0;36m<module>\u001b[1;34m\u001b[0m\n\u001b[0;32m     31\u001b[0m    \u001b[0mos\u001b[0m\u001b[1;33m.\u001b[0m\u001b[0menviron\u001b[0m\u001b[1;33m[\u001b[0m\u001b[1;34m'TZ'\u001b[0m\u001b[1;33m]\u001b[0m \u001b[1;33m=\u001b[0m \u001b[0mzone\u001b[0m\u001b[1;33m\u001b[0m\u001b[1;33m\u001b[0m\u001b[0m\n\u001b[0;32m     32\u001b[0m \u001b[1;33m\u001b[0m\u001b[0m\n\u001b[1;32m---> 33\u001b[1;33m    \u001b[0mtime\u001b[0m\u001b[1;33m.\u001b[0m\u001b[0mtzset\u001b[0m\u001b[1;33m(\u001b[0m\u001b[1;33m)\u001b[0m\u001b[1;33m\u001b[0m\u001b[1;33m\u001b[0m\u001b[0m\n\u001b[0m\u001b[0;32m     34\u001b[0m \u001b[1;33m\u001b[0m\u001b[0m\n\u001b[0;32m     35\u001b[0m    \u001b[0mprint\u001b[0m\u001b[1;33m(\u001b[0m\u001b[0mzone\u001b[0m\u001b[1;33m,\u001b[0m \u001b[1;34m':'\u001b[0m\u001b[1;33m)\u001b[0m\u001b[1;33m\u001b[0m\u001b[1;33m\u001b[0m\u001b[0m\n",
      "\u001b[1;31mAttributeError\u001b[0m: module 'time' has no attribute 'tzset'"
     ]
    }
   ],
   "source": [
    "import time\n",
    "\n",
    "import os\n",
    "\n",
    " \n",
    "\n",
    "def show_zone_info():\n",
    "\n",
    "   print('\\tTZ    :', os.environ.get('TZ', '(not set)'))\n",
    "\n",
    "   print('\\ttzname:', time.tzname)\n",
    "\n",
    "   print('\\tZone  : %d (%d)' % (time.timezone, (time.timezone / 3600)))\n",
    "\n",
    "   print('\\tDST   :', time.daylight)\n",
    "\n",
    "   print('\\tTime  :', time.ctime())\n",
    "\n",
    "   print\n",
    "\n",
    " \n",
    "\n",
    "print('Default :')\n",
    "\n",
    "show_zone_info()\n",
    "\n",
    " \n",
    "\n",
    "for zone in [ 'US/Eastern', 'US/Pacific', 'GMT', 'Europe/Amsterdam' ]:\n",
    "\n",
    "   os.environ['TZ'] = zone\n",
    "\n",
    "   time.tzset()\n",
    "\n",
    "   print(zone, ':')\n",
    "\n",
    "   show_zone_info()"
   ]
  },
  {
   "cell_type": "code",
   "execution_count": 10,
   "metadata": {},
   "outputs": [
    {
     "data": {
      "text/plain": [
       "\"\\nAi eroare pt ca metoda de mai sus merge doar in UNIX,\\noutputul ar fii:\\n\\nDefault :\\n\\n TZ    : (not set)\\n\\n tzname: ('EET', 'EEST')\\n\\n Zone  : -7200 (-2)\\n\\n DST   : 1\\n\\n Time  : Sun Jul  2 18:51:24 2017\\n\\nUS/Eastern :\\n\\n TZ    : US/Eastern\\n\\n tzname: ('EST', 'EDT')\\n\\n Zone  : 18000 (5)\\n\\n DST   : 1\\n\\n Time  : Sun Jul  2 11:51:24 2017\\n\\nUS/Pacific :\\n\\n TZ    : US/Pacific\\n\\n tzname: ('PST', 'PDT')\\n\\n Zone  : 28800 (8)\\n\\n DST   : 1\\n\\n Time  : Sun Jul  2 08:51:24 2017\\n\\nGMT :\\n\\n TZ    : GMT\\n\\n tzname: ('GMT', 'GMT')\\n\\n Zone  : 0 (0)\\n\\n DST   : 0\\n\\n Time  : Sun Jul  2 15:51:24 2017\\n\\nEurope/Amsterdam :\\n\\n TZ    : Europe/Amsterdam\\n\\n tzname: ('CET', 'CEST')\\n\\n Zone  : -3600 (-1)\\n\\n DST   : 1\\n\\n Time  : Sun Jul  2 17:51:24 2017\\n\\n\""
      ]
     },
     "execution_count": 10,
     "metadata": {},
     "output_type": "execute_result"
    }
   ],
   "source": [
    "'''\n",
    "Ai eroare pt ca metoda de mai sus merge doar in UNIX,\n",
    "outputul ar fii:\n",
    "\n",
    "Default :\n",
    "\n",
    " TZ    : (not set)\n",
    "\n",
    " tzname: ('EET', 'EEST')\n",
    "\n",
    " Zone  : -7200 (-2)\n",
    "\n",
    " DST   : 1\n",
    "\n",
    " Time  : Sun Jul  2 18:51:24 2017\n",
    "\n",
    "US/Eastern :\n",
    "\n",
    " TZ    : US/Eastern\n",
    "\n",
    " tzname: ('EST', 'EDT')\n",
    "\n",
    " Zone  : 18000 (5)\n",
    "\n",
    " DST   : 1\n",
    "\n",
    " Time  : Sun Jul  2 11:51:24 2017\n",
    "\n",
    "US/Pacific :\n",
    "\n",
    " TZ    : US/Pacific\n",
    "\n",
    " tzname: ('PST', 'PDT')\n",
    "\n",
    " Zone  : 28800 (8)\n",
    "\n",
    " DST   : 1\n",
    "\n",
    " Time  : Sun Jul  2 08:51:24 2017\n",
    "\n",
    "GMT :\n",
    "\n",
    " TZ    : GMT\n",
    "\n",
    " tzname: ('GMT', 'GMT')\n",
    "\n",
    " Zone  : 0 (0)\n",
    "\n",
    " DST   : 0\n",
    "\n",
    " Time  : Sun Jul  2 15:51:24 2017\n",
    "\n",
    "Europe/Amsterdam :\n",
    "\n",
    " TZ    : Europe/Amsterdam\n",
    "\n",
    " tzname: ('CET', 'CEST')\n",
    "\n",
    " Zone  : -3600 (-1)\n",
    "\n",
    " DST   : 1\n",
    "\n",
    " Time  : Sun Jul  2 17:51:24 2017\n",
    "\n",
    "'''"
   ]
  },
  {
   "cell_type": "markdown",
   "metadata": {},
   "source": [
    "## Exemplu 4"
   ]
  },
  {
   "cell_type": "code",
   "execution_count": 11,
   "metadata": {},
   "outputs": [
    {
     "name": "stdout",
     "output_type": "stream",
     "text": [
      "03:02:01\n",
      "ore  : 3\n",
      "minute: 2\n",
      "secunde: 1\n",
      "microsecunde: 0\n",
      "tzinfo: None\n",
      "\n",
      "\n",
      "\n",
      "15:20:31\n",
      "ore  : 15\n",
      "minute: 20\n",
      "secudne: 31\n",
      "microsecunde: 0\n",
      "tzinfo: None\n"
     ]
    }
   ],
   "source": [
    "import datetime\n",
    "\n",
    " \n",
    "\n",
    "t = datetime.time(3, 2, 1)\n",
    "\n",
    "print(t)\n",
    "\n",
    "print('ore  :', t.hour)\n",
    "\n",
    "print('minute:', t.minute)\n",
    "\n",
    "print('secunde:', t.second)\n",
    "\n",
    "print('microsecunde:', t.microsecond)\n",
    "\n",
    "print('tzinfo:', t.tzinfo)\n",
    "\n",
    " \n",
    "\n",
    "print('\\n\\n')\n",
    "\n",
    " \n",
    "\n",
    "t = datetime.time(15, 20, 31)\n",
    "\n",
    "print(t)\n",
    "\n",
    "print('ore  :', t.hour)\n",
    "\n",
    "print('minute:', t.minute)\n",
    "\n",
    "print('secudne:', t.second)\n",
    "\n",
    "print('microsecunde:', t.microsecond)\n",
    "\n",
    "print('tzinfo:', t.tzinfo)"
   ]
  },
  {
   "cell_type": "markdown",
   "metadata": {},
   "source": [
    "### Exemplu 5"
   ]
  },
  {
   "cell_type": "code",
   "execution_count": 13,
   "metadata": {},
   "outputs": [
    {
     "name": "stdout",
     "output_type": "stream",
     "text": [
      "Ziua curenta:  2019-12-29\n",
      "O singura zi:  1 day, 0:00:00\n",
      "Ieri:  2019-12-28\n",
      "Maine:  2019-12-30\n",
      "Maine - Ieri:  2 days, 0:00:00\n",
      "Ieri - Maine:  -2 days, 0:00:00\n"
     ]
    }
   ],
   "source": [
    "import datetime\n",
    "\n",
    " \n",
    "\n",
    "ziua_curenta = datetime.date.today()\n",
    "\n",
    "print('Ziua curenta: ', ziua_curenta)\n",
    "\n",
    " \n",
    "\n",
    "o_zi = datetime.timedelta(days=1)\n",
    "\n",
    "print('O singura zi: ', o_zi)\n",
    "\n",
    " \n",
    "\n",
    "ieri = ziua_curenta - o_zi\n",
    "\n",
    "print('Ieri: ', ieri)\n",
    "\n",
    " \n",
    "\n",
    "maine = ziua_curenta + o_zi\n",
    "\n",
    "print('Maine: ', maine)\n",
    "\n",
    " \n",
    "\n",
    "print('Maine - Ieri: ', maine - ieri)\n",
    "\n",
    "print('Ieri - Maine: ', ieri - maine)"
   ]
  },
  {
   "cell_type": "markdown",
   "metadata": {},
   "source": [
    "## Exemplu 5"
   ]
  },
  {
   "cell_type": "code",
   "execution_count": 15,
   "metadata": {},
   "outputs": [
    {
     "name": "stdout",
     "output_type": "stream",
     "text": [
      "General - iso     : 2019-12-29 03:58:04.516495\n",
      "Functia strftime: Sun Dec 29 03:58:04 2019\n",
      "Functia strptime: Sun Dec 29 03:58:04 2019\n"
     ]
    }
   ],
   "source": [
    "import datetime\n",
    "\n",
    " \n",
    "\n",
    "format = \"%a %b %d %H:%M:%S %Y\"\n",
    "\n",
    " \n",
    "\n",
    "today = datetime.datetime.today()\n",
    "\n",
    "print('General - iso     :', today)\n",
    "\n",
    " \n",
    "\n",
    "s = today.strftime(format)\n",
    "\n",
    "print('Functia strftime:', s)\n",
    "\n",
    " \n",
    "\n",
    "d = datetime.datetime.strptime(s, format)\n",
    "\n",
    "print('Functia strptime:', d.strftime(format))"
   ]
  },
  {
   "cell_type": "code",
   "execution_count": null,
   "metadata": {},
   "outputs": [],
   "source": []
  }
 ],
 "metadata": {
  "kernelspec": {
   "display_name": "Python 3",
   "language": "python",
   "name": "python3"
  },
  "language_info": {
   "codemirror_mode": {
    "name": "ipython",
    "version": 3
   },
   "file_extension": ".py",
   "mimetype": "text/x-python",
   "name": "python",
   "nbconvert_exporter": "python",
   "pygments_lexer": "ipython3",
   "version": "3.6.9"
  }
 },
 "nbformat": 4,
 "nbformat_minor": 2
}

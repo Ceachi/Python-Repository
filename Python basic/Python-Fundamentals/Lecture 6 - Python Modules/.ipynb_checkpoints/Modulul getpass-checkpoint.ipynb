{
 "cells": [
  {
   "cell_type": "code",
   "execution_count": 1,
   "metadata": {},
   "outputs": [
    {
     "data": {
      "text/plain": [
       "'\\nModulul getpass ofera doua functii:\\n\\n   I) getpass.getpass([prompt[, stream]])\\n\\nSolicită utilizatorului o parolă fără a face echoing. \\nUtilizatorul este solicitat folosind promptul de șir, \\ncare implicit este \"Parola:\". Pe Unix, promptul este scris în obiectul\\nasemănător fișierelor stream. stream implicit la terminalul de control\\n(/ dev / tty) sau dacă acesta nu este disponibil pentru sys.stderr \\n(acest argument este ignorat în Windows).\\n\\n\\n    II) getpass.getuser()\\nReturnează \"numele de conectare\" al utilizatorului.\\nAceastă funcție verifică în ordine variabilele de mediu \\nLOGNAME, USER, LNAME și USERNAME și returnează valoarea primei care este \\nsetată la un șir ne-gol. Dacă nu este setat niciunul, \\nnumele de conectare din baza de date a parolei este returnat\\npe sistemele care acceptă modulul pwd, în caz contrar, se ridică o excepție.   \\n    \\n'"
      ]
     },
     "execution_count": 1,
     "metadata": {},
     "output_type": "execute_result"
    }
   ],
   "source": [
    "'''\n",
    "Modulul getpass ofera doua functii:\n",
    "\n",
    "   I) getpass.getpass([prompt[, stream]])\n",
    "\n",
    "Solicită utilizatorului o parolă fără a face echoing. \n",
    "Utilizatorul este solicitat folosind promptul de șir, \n",
    "care implicit este \"Parola:\". Pe Unix, promptul este scris în obiectul\n",
    "asemănător fișierelor stream. stream implicit la terminalul de control\n",
    "(/ dev / tty) sau dacă acesta nu este disponibil pentru sys.stderr \n",
    "(acest argument este ignorat în Windows).\n",
    "\n",
    "\n",
    "    II) getpass.getuser()\n",
    "Returnează \"numele de conectare\" al utilizatorului.\n",
    "Această funcție verifică în ordine variabilele de mediu \n",
    "LOGNAME, USER, LNAME și USERNAME și returnează valoarea primei care este \n",
    "setată la un șir ne-gol. Dacă nu este setat niciunul, \n",
    "numele de conectare din baza de date a parolei este returnat\n",
    "pe sistemele care acceptă modulul pwd, în caz contrar, se ridică o excepție.   \n",
    "    \n",
    "'''"
   ]
  },
  {
   "cell_type": "code",
   "execution_count": 3,
   "metadata": {},
   "outputs": [
    {
     "name": "stdout",
     "output_type": "stream",
     "text": [
      "Care este animalul preferat?········\n",
      "Animalul dumneavoastra nu latra. Doar cainele latra\n"
     ]
    }
   ],
   "source": [
    "import getpass\n",
    "\n",
    "p = getpass.getpass('Care este animalul preferat?')\n",
    "\n",
    "if p.lower() == 'caine':\n",
    "    print('Cainele latra')\n",
    "    \n",
    "else:\n",
    "    print('Animalul dumneavoastra nu latra. Doar cainele latra')\n",
    "\n",
    "\n"
   ]
  },
  {
   "cell_type": "code",
   "execution_count": 4,
   "metadata": {},
   "outputs": [
    {
     "name": "stdout",
     "output_type": "stream",
     "text": [
      "Using readline\n",
      "Read:  \n"
     ]
    }
   ],
   "source": [
    "import sys\n",
    "\n",
    "if sys.stdin.isatty():\n",
    "    \n",
    "    p = getpass.getpass('Using getpass: ')\n",
    "\n",
    "else:\n",
    "    \n",
    "    print('Using readline')\n",
    "    \n",
    "    p = sys.stdin.readline().rstrip()\n",
    "    \n",
    "    print('Read: ', p)"
   ]
  },
  {
   "cell_type": "code",
   "execution_count": null,
   "metadata": {},
   "outputs": [],
   "source": []
  }
 ],
 "metadata": {
  "kernelspec": {
   "display_name": "Python 3",
   "language": "python",
   "name": "python3"
  },
  "language_info": {
   "codemirror_mode": {
    "name": "ipython",
    "version": 3
   },
   "file_extension": ".py",
   "mimetype": "text/x-python",
   "name": "python",
   "nbconvert_exporter": "python",
   "pygments_lexer": "ipython3",
   "version": "3.6.9"
  }
 },
 "nbformat": 4,
 "nbformat_minor": 2
}

{
 "cells": [
  {
   "cell_type": "code",
   "execution_count": 1,
   "metadata": {},
   "outputs": [
    {
     "data": {
      "text/plain": [
       "'\\nFolosit pentru serializare/deserealizarea obiectelor in Python.\\n\\nobiect -> bytestream\\n\\nunpickling -> procestul invers, bytestream -> obiect\\n\\npickling (serializare), unpickling (deserealizare)\\n'"
      ]
     },
     "execution_count": 1,
     "metadata": {},
     "output_type": "execute_result"
    }
   ],
   "source": [
    "'''\n",
    "Folosit pentru serializare/deserealizarea obiectelor in Python.\n",
    "\n",
    "obiect -> bytestream\n",
    "\n",
    "unpickling -> procestul invers, bytestream -> obiect\n",
    "\n",
    "pickling (serializare), unpickling (deserealizare)\n",
    "'''"
   ]
  },
  {
   "cell_type": "code",
   "execution_count": 2,
   "metadata": {},
   "outputs": [],
   "source": [
    "try:\n",
    "    import cPickle as pickle\n",
    "    \n",
    "except:\n",
    "    import pickle"
   ]
  },
  {
   "cell_type": "code",
   "execution_count": 3,
   "metadata": {},
   "outputs": [],
   "source": [
    "import pprint"
   ]
  },
  {
   "cell_type": "code",
   "execution_count": 4,
   "metadata": {},
   "outputs": [
    {
     "name": "stdout",
     "output_type": "stream",
     "text": [
      "Inainte de serializare\n",
      "[{'a': 1.2, 'b': 2.3, 'c': 3.7}]\n"
     ]
    }
   ],
   "source": [
    "data1 = [{'a' : 1.2, 'b' : 2.3, 'c' : 3.7}]\n",
    "\n",
    "print('Inainte de serializare')\n",
    "\n",
    "pprint.pprint(data1)"
   ]
  },
  {
   "cell_type": "code",
   "execution_count": 5,
   "metadata": {},
   "outputs": [
    {
     "name": "stdout",
     "output_type": "stream",
     "text": [
      "\n",
      "\n",
      "Cum arata stringul dupa serializare\n",
      "(b'\\x80\\x03]q\\x00}q\\x01(X\\x01\\x00\\x00\\x00aq\\x02G?\\xf3333333X\\x01\\x00\\x00\\x00b'\n",
      " b'q\\x03G@\\x02ffffffX\\x01\\x00\\x00\\x00cq\\x04G@\\r\\x99\\x99\\x99\\x99\\x99\\x9aua.')\n",
      "\n",
      "\n",
      "Cum arata dupa ce incercam iar serializarea in ce era inainte folosind load\n",
      "[{'a': 1.2, 'b': 2.3, 'c': 3.7}]\n"
     ]
    }
   ],
   "source": [
    "data1_string = pickle.dumps(data1)\n",
    "print('\\n')\n",
    "\n",
    "print('Cum arata stringul dupa serializare')\n",
    "\n",
    "pprint.pprint(data1_string)\n",
    "\n",
    "print('\\n')\n",
    "\n",
    "data2 = pickle.loads(data1_string)\n",
    "\n",
    "print('Cum arata dupa ce incercam iar serializarea in ce era inainte folosind load')\n",
    "\n",
    "pprint.pprint(data2)"
   ]
  },
  {
   "cell_type": "code",
   "execution_count": 6,
   "metadata": {},
   "outputs": [
    {
     "name": "stdout",
     "output_type": "stream",
     "text": [
      "Sunt obiectele identice?: False\n",
      "Sunt obiectele egale?: True\n"
     ]
    }
   ],
   "source": [
    "print('Sunt obiectele identice?:', (data1 is data2))\n",
    "print('Sunt obiectele egale?:', (data1 == data2))"
   ]
  },
  {
   "cell_type": "code",
   "execution_count": null,
   "metadata": {},
   "outputs": [],
   "source": []
  }
 ],
 "metadata": {
  "kernelspec": {
   "display_name": "Python 3",
   "language": "python",
   "name": "python3"
  },
  "language_info": {
   "codemirror_mode": {
    "name": "ipython",
    "version": 3
   },
   "file_extension": ".py",
   "mimetype": "text/x-python",
   "name": "python",
   "nbconvert_exporter": "python",
   "pygments_lexer": "ipython3",
   "version": "3.6.9"
  }
 },
 "nbformat": 4,
 "nbformat_minor": 2
}

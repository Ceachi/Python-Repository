{
 "cells": [
  {
   "cell_type": "markdown",
   "metadata": {},
   "source": [
    "## The code is read much more often than it is written.” - Guido Van Rossum (creatorul Python)"
   ]
  },
  {
   "cell_type": "code",
   "execution_count": 1,
   "metadata": {},
   "outputs": [
    {
     "data": {
      "text/plain": [
       "'\\nPython este unul dintre cele mai populare limbaje de programare, \\nofera foarte multe module care extind utilitatea acestuia si este un limbaj \\nde programare destul de usor de invatat. Pentru a beneficia de \\ntoate functionalitatile acestui limbaj, este necesara scrierea codului astfel incat sa fie cat mai usor de\\ncitit si ceea ce acesta exprima sa fie cat mai usor de inteles. Pentru a face acest lucru, exista un ghid de \\nformatare a codului astfel incat sa fie cat mai usor de citit, numit PEP8. De asemenea, pentru a putea vedea \\nscopurile care au stat la baza creearii Python, se poate da comanda import this\\nintr-un shell interactiv de Python pentru a putea vedea cele 20\\n\\n\\n\\n'"
      ]
     },
     "execution_count": 1,
     "metadata": {},
     "output_type": "execute_result"
    }
   ],
   "source": [
    "'''\n",
    "Python este unul dintre cele mai populare limbaje de programare, \n",
    "ofera foarte multe module care extind utilitatea acestuia si este un limbaj \n",
    "de programare destul de usor de invatat. Pentru a beneficia de \n",
    "toate functionalitatile acestui limbaj, este necesara scrierea codului astfel incat sa fie cat mai usor de\n",
    "citit si ceea ce acesta exprima sa fie cat mai usor de inteles. Pentru a face acest lucru, exista un ghid de \n",
    "formatare a codului astfel incat sa fie cat mai usor de citit, numit PEP8. De asemenea, pentru a putea vedea \n",
    "scopurile care au stat la baza creearii Python, se poate da comanda import this\n",
    "intr-un shell interactiv de Python pentru a putea vedea cele 20\n",
    "\n",
    "\n",
    "\n",
    "'''"
   ]
  },
  {
   "cell_type": "markdown",
   "metadata": {},
   "source": [
    "## Identare"
   ]
  },
  {
   "cell_type": "code",
   "execution_count": 3,
   "metadata": {},
   "outputs": [
    {
     "data": {
      "text/plain": [
       "'\\nIndentarea este foarte importanta atunci cand programam in Python. \\nEste recomandat ca indentarea sa fie facuta cu 4 spatii. \\nEste o problema foarte des intalnita, daca sa fie folosite spatii \\nsau tab-uri pentru indentare, si este un aspect care este foarte \\nintens dezbatut de catre programatorii Python. Este recomandata \\nutilizarea spatiilor in detrimentul indentarii cu tab-uri, \\nmai putin in cazul in care exista un script care deja foloseste tab-uri, \\nin aceasta situatie este recomandata consistenta. In Python3, \\nconsistenta este necesara,\\ndeoarece nu se pot folosi si spatii si tab-uri.\\n\\n\\n'"
      ]
     },
     "execution_count": 3,
     "metadata": {},
     "output_type": "execute_result"
    }
   ],
   "source": [
    "'''\n",
    "Indentarea este foarte importanta atunci cand programam in Python. \n",
    "Este recomandat ca indentarea sa fie facuta cu 4 spatii. \n",
    "Este o problema foarte des intalnita, daca sa fie folosite spatii \n",
    "sau tab-uri pentru indentare, si este un aspect care este foarte \n",
    "intens dezbatut de catre programatorii Python. Este recomandata \n",
    "utilizarea spatiilor in detrimentul indentarii cu tab-uri, \n",
    "mai putin in cazul in care exista un script care deja foloseste tab-uri, \n",
    "in aceasta situatie este recomandata consistenta. In Python3, \n",
    "consistenta este necesara,\n",
    "deoarece nu se pot folosi si spatii si tab-uri.\n",
    "\n",
    "\n",
    "'''"
   ]
  },
  {
   "cell_type": "markdown",
   "metadata": {},
   "source": [
    "## Numar maxim de caractere"
   ]
  },
  {
   "cell_type": "code",
   "execution_count": 5,
   "metadata": {},
   "outputs": [
    {
     "data": {
      "text/plain": [
       "'\\nIn cadrul unui cod Python, este recomandat ca o linie de cod sa nu \\ndepaseasca 79 de caractere, sau 72 de caractere in cazul unor comentarii. \\nAceasta regula asigura ca acest cod este mult mai usor de urmarit si citit.\\n\\n'"
      ]
     },
     "execution_count": 5,
     "metadata": {},
     "output_type": "execute_result"
    }
   ],
   "source": [
    "'''\n",
    "In cadrul unui cod Python, este recomandat ca o linie de cod sa nu \n",
    "depaseasca 79 de caractere, sau 72 de caractere in cazul unor comentarii. \n",
    "Aceasta regula asigura ca acest cod este mult mai usor de urmarit si citit.\n",
    "\n",
    "'''"
   ]
  },
  {
   "cell_type": "markdown",
   "metadata": {},
   "source": [
    "## Import-uri"
   ]
  },
  {
   "cell_type": "code",
   "execution_count": 7,
   "metadata": {},
   "outputs": [
    {
     "data": {
      "text/plain": [
       "'\\nFiind o operatie foarte curenta in cadrul unui program Python, \\nimportarea modulelor este un alt aspect care trebuie luat \\nin considerare pentru a scrie un cod usor de citit.\\nAstfel, este recomandata respectarea urmatoarei ierarhii in momentul\\nimportarii modulelor:\\n\\n1. Librarii standard\\n2. Librarii de la terti\\n3. Librarii locale\\n\\n\\nO regula generala impune evitarea importarii wildcard, \\npentru ca nu exista vizibilitate legata de clasele, \\nmetodele sau variabilele care se folosesc in program.\\n\\n'"
      ]
     },
     "execution_count": 7,
     "metadata": {},
     "output_type": "execute_result"
    }
   ],
   "source": [
    "'''\n",
    "Fiind o operatie foarte curenta in cadrul unui program Python, \n",
    "importarea modulelor este un alt aspect care trebuie luat \n",
    "in considerare pentru a scrie un cod usor de citit.\n",
    "Astfel, este recomandata respectarea urmatoarei ierarhii in momentul\n",
    "importarii modulelor:\n",
    "\n",
    "1. Librarii standard\n",
    "2. Librarii de la terti\n",
    "3. Librarii locale\n",
    "\n",
    "\n",
    "O regula generala impune evitarea importarii wildcard, \n",
    "pentru ca nu exista vizibilitate legata de clasele, \n",
    "metodele sau variabilele care se folosesc in program.\n",
    "\n",
    "'''"
   ]
  },
  {
   "cell_type": "markdown",
   "metadata": {},
   "source": [
    "## Conventii pentru denumiri"
   ]
  },
  {
   "cell_type": "code",
   "execution_count": 9,
   "metadata": {},
   "outputs": [
    {
     "data": {
      "text/plain": [
       "'\\nIn momentul in care se denumesc variabile, functii, clase sau alte entitati \\nintr-un cod, este importanta folosirea unui stil in care acestea \\nar trebui declarate.\\n\\n\\n\\nEntitate -> Conventie\\n\\nModul -> Litere mici\\n\\nClasa -> CameCase (Fiecare cuvant din clasa trebuie sa inceapa cu litera mare)\\n\\nFunctie -> Litere mici\\n\\nMetoda -> Litere mici\\n\\nConstante -> Litere mari\\n\\n'"
      ]
     },
     "execution_count": 9,
     "metadata": {},
     "output_type": "execute_result"
    }
   ],
   "source": [
    "'''\n",
    "In momentul in care se denumesc variabile, functii, clase sau alte entitati \n",
    "intr-un cod, este importanta folosirea unui stil in care acestea \n",
    "ar trebui declarate.\n",
    "\n",
    "\n",
    "\n",
    "Entitate -> Conventie\n",
    "\n",
    "Modul -> Litere mici\n",
    "\n",
    "Clasa -> CameCase (Fiecare cuvant din clasa trebuie sa inceapa cu litera mare)\n",
    "\n",
    "Functie -> Litere mici\n",
    "\n",
    "Metoda -> Litere mici\n",
    "\n",
    "Constante -> Litere mari\n",
    "\n",
    "'''"
   ]
  },
  {
   "cell_type": "markdown",
   "metadata": {},
   "source": [
    "## Verificare PEP8"
   ]
  },
  {
   "cell_type": "code",
   "execution_count": null,
   "metadata": {},
   "outputs": [],
   "source": [
    "'''\n",
    "Poate fi dificil ca un programator sa aiba mereu in vedere \n",
    "toate aceste conventii de a scrie codul de Python, \n",
    "din acest motiv, IDE-urile contin mecanisme prin care se recomanda \n",
    "ajustarea codului la PEP8.\n",
    "In cazul in care programele de python sunt scrise fara a folosi un IDE, \n",
    "se poate folosi pachetul pycodestyle care poate verifica daca un program \n",
    "adera la regulile PEP8 si poate oferi sugestii despre unde si cum acesta \n",
    "trebuie sa fie modificat.\n",
    "\n",
    "In cazul in care programele de python sunt scrise fara a folosi un IDE, \n",
    "se poate folosi pachetul pycodestyle care poate verifica daca un program \n",
    "adera la regulile PEP8 si poate oferi sugestii despre unde si cum acesta \n",
    "trebuie sa fie modificat.\n",
    "\n",
    "Exemplu:\n",
    "\n",
    "# pycodestyle --first test.py\n",
    "\n",
    "test.py:6:8: E225 missing whitespace around operator\n",
    "\n",
    "test.py:7:1: W191 indentation contains tabs\n",
    "\n",
    "test.py:7:2: E117 over-indented\n",
    "'''"
   ]
  }
 ],
 "metadata": {
  "kernelspec": {
   "display_name": "Python 3",
   "language": "python",
   "name": "python3"
  },
  "language_info": {
   "codemirror_mode": {
    "name": "ipython",
    "version": 3
   },
   "file_extension": ".py",
   "mimetype": "text/x-python",
   "name": "python",
   "nbconvert_exporter": "python",
   "pygments_lexer": "ipython3",
   "version": "3.6.9"
  }
 },
 "nbformat": 4,
 "nbformat_minor": 2
}

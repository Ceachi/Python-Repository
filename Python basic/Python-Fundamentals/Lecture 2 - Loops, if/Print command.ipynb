{
 "cells": [
  {
   "cell_type": "markdown",
   "metadata": {},
   "source": [
    "# Printarea în Python pe linie multiplă fără \\n"
   ]
  },
  {
   "cell_type": "code",
   "execution_count": 3,
   "metadata": {},
   "outputs": [
    {
     "name": "stdout",
     "output_type": "stream",
     "text": [
      " This is \n",
      "\n",
      "... a multiline string\n"
     ]
    }
   ],
   "source": [
    "# daca nu vrei sa folosesti \\n, se scrie stringul incadrat de 3 ghilimele\n",
    "\n",
    "m = \"\"\" This is \n",
    "\n",
    "... a multiline string\"\"\"\n",
    "print(m)"
   ]
  },
  {
   "cell_type": "markdown",
   "metadata": {},
   "source": [
    "# Printarea ghilimelele"
   ]
  },
  {
   "cell_type": "code",
   "execution_count": 4,
   "metadata": {},
   "outputs": [
    {
     "name": "stdout",
     "output_type": "stream",
     "text": [
      " test ' \n"
     ]
    }
   ],
   "source": [
    "# \\n, \\t (pt tab) \n",
    "# Evitând ghilimelele din string, folosim \\ după care se scrie tipul de ghilimele ce se dorește a fi printat\n",
    "\n",
    "m = \" test \\' \"\n",
    "print(m)"
   ]
  },
  {
   "cell_type": "code",
   "execution_count": 6,
   "metadata": {},
   "outputs": [
    {
     "name": "stdout",
     "output_type": "stream",
     "text": [
      "test \"\n"
     ]
    }
   ],
   "source": [
    "m = \"test \\\"\"\n",
    "\n",
    "print(m)"
   ]
  },
  {
   "cell_type": "code",
   "execution_count": 7,
   "metadata": {},
   "outputs": [
    {
     "name": "stdout",
     "output_type": "stream",
     "text": [
      "test \"\n"
     ]
    }
   ],
   "source": [
    "# folosind ghilimelele simple sau duble impreuna\n",
    "m = 'test \"'\n",
    "print(m)"
   ]
  },
  {
   "cell_type": "code",
   "execution_count": 8,
   "metadata": {},
   "outputs": [
    {
     "name": "stdout",
     "output_type": "stream",
     "text": [
      "Așa se printează backslash în Python \\\n"
     ]
    }
   ],
   "source": [
    "print(\"Așa se printează backslash în Python \\\\\")"
   ]
  },
  {
   "cell_type": "markdown",
   "metadata": {},
   "source": [
    "# Printarea raw string in Python"
   ]
  },
  {
   "cell_type": "code",
   "execution_count": 9,
   "metadata": {},
   "outputs": [
    {
     "data": {
      "text/plain": [
       "\"\\nNecesitatea de a printa un raw string (neprelucrat) în python apare în momentul în care dorim să printăm un șir de caractere care conține caractere speciale cum ar fi \\n sau \\t pe care dorim să le printăm ca atare fără a ne folosi de funcțiile pe care le îndeplinesc acestea.\\n\\nPentru a printa un șir de caractere neprelucrat se folosește sintaxa r'Your string here'\\n\""
      ]
     },
     "execution_count": 9,
     "metadata": {},
     "output_type": "execute_result"
    }
   ],
   "source": [
    "'''\n",
    "Necesitatea de a printa un raw string (neprelucrat) în python apare în momentul în care dorim să printăm un șir de caractere care conține caractere speciale cum ar fi \\n sau \\t pe care dorim să le printăm ca atare fără a ne folosi de funcțiile pe care le îndeplinesc acestea.\n",
    "\n",
    "Pentru a printa un șir de caractere neprelucrat se folosește sintaxa r'Your string here'\n",
    "'''"
   ]
  },
  {
   "cell_type": "code",
   "execution_count": 10,
   "metadata": {},
   "outputs": [
    {
     "name": "stdout",
     "output_type": "stream",
     "text": [
      "C:\\Users\\Merlin\\Documents\\Spells\n"
     ]
    }
   ],
   "source": [
    "m=r'C:\\Users\\Merlin\\Documents\\Spells'\n",
    "print(m)"
   ]
  },
  {
   "cell_type": "markdown",
   "metadata": {},
   "source": [
    "# Print în Python 2.X vs 3.X"
   ]
  },
  {
   "cell_type": "code",
   "execution_count": 11,
   "metadata": {},
   "outputs": [
    {
     "name": "stdout",
     "output_type": "stream",
     "text": [
      "Asa se afiseaza si-n Python2.x si-n Python3.x\n"
     ]
    }
   ],
   "source": [
    "print(\"Asa se afiseaza si-n Python2.x si-n Python3.x\")"
   ]
  },
  {
   "cell_type": "code",
   "execution_count": 12,
   "metadata": {},
   "outputs": [
    {
     "ename": "SyntaxError",
     "evalue": "Missing parentheses in call to 'print'. Did you mean print(\"Asa se afiseaza numai in Python2.x\")? (<ipython-input-12-86ab9f9238ca>, line 1)",
     "output_type": "error",
     "traceback": [
      "\u001b[1;36m  File \u001b[1;32m\"<ipython-input-12-86ab9f9238ca>\"\u001b[1;36m, line \u001b[1;32m1\u001b[0m\n\u001b[1;33m    print \"Asa se afiseaza numai in Python2.x\"\u001b[0m\n\u001b[1;37m                                             ^\u001b[0m\n\u001b[1;31mSyntaxError\u001b[0m\u001b[1;31m:\u001b[0m Missing parentheses in call to 'print'. Did you mean print(\"Asa se afiseaza numai in Python2.x\")?\n"
     ]
    }
   ],
   "source": [
    " print \"Asa se afiseaza numai in Python2.x\""
   ]
  },
  {
   "cell_type": "code",
   "execution_count": 13,
   "metadata": {},
   "outputs": [
    {
     "data": {
      "text/plain": [
       "8"
      ]
     },
     "execution_count": 13,
     "metadata": {},
     "output_type": "execute_result"
    }
   ],
   "source": [
    "import math\n",
    "math.ceil(7.1) "
   ]
  },
  {
   "cell_type": "code",
   "execution_count": null,
   "metadata": {},
   "outputs": [],
   "source": []
  }
 ],
 "metadata": {
  "kernelspec": {
   "display_name": "Python 3",
   "language": "python",
   "name": "python3"
  },
  "language_info": {
   "codemirror_mode": {
    "name": "ipython",
    "version": 3
   },
   "file_extension": ".py",
   "mimetype": "text/x-python",
   "name": "python",
   "nbconvert_exporter": "python",
   "pygments_lexer": "ipython3",
   "version": "3.6.9"
  }
 },
 "nbformat": 4,
 "nbformat_minor": 2
}

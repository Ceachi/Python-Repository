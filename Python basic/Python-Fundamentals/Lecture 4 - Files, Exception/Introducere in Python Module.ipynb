{
 "cells": [
  {
   "cell_type": "markdown",
   "metadata": {},
   "source": [
    "# Introducere"
   ]
  },
  {
   "cell_type": "code",
   "execution_count": 2,
   "metadata": {},
   "outputs": [
    {
     "data": {
      "text/plain": [
       "\"\\nimport -> pt module (functii/clase/obiecte din alt modul'), este un #include\\n\\nmodul = obiect Python cu atribute numite arbitrar pe care le poti lega si referi\\n        adica un fisier formatat din codul Python.\\n\\n\\n\""
      ]
     },
     "execution_count": 2,
     "metadata": {},
     "output_type": "execute_result"
    }
   ],
   "source": [
    "'''\n",
    "import -> pt module (functii/clase/obiecte din alt modul'), este un #include\n",
    "\n",
    "modul = obiect Python cu atribute numite arbitrar pe care le poti lega si referi\n",
    "        adica un fisier formatat din codul Python.\n",
    "\n",
    "\n",
    "'''"
   ]
  },
  {
   "cell_type": "markdown",
   "metadata": {},
   "source": [
    "# Crearea, Rularea si Importarea de module in Python"
   ]
  },
  {
   "cell_type": "code",
   "execution_count": 5,
   "metadata": {},
   "outputs": [],
   "source": [
    "f = open('t.txt', mode = 'wt', encoding = 'utf-8')\n",
    "\n",
    "f.write(\"Aceasta este prima linie de text \\n\")\n",
    "f.write(\"Aceasta este a doua linie de text \\n\")\n",
    "f.write(\"Aceasta este a treia linie de text \\n\")\n",
    "\n",
    "f.close()\n"
   ]
  },
  {
   "cell_type": "code",
   "execution_count": 6,
   "metadata": {},
   "outputs": [
    {
     "name": "stdout",
     "output_type": "stream",
     "text": [
      "Aceasta\n",
      "este\n",
      "prima\n",
      "linie\n",
      "de\n",
      "text\n",
      "Aceasta\n",
      "este\n",
      "a\n",
      "doua\n",
      "linie\n",
      "de\n",
      "text\n",
      "Aceasta\n",
      "este\n",
      "a\n",
      "treia\n",
      "linie\n",
      "de\n",
      "text\n"
     ]
    }
   ],
   "source": [
    "# si acum codul nostru\n",
    "\n",
    "# sa zicem ca punem codul asta intr-un words.py\n",
    "with open('t.txt') as file:\n",
    "    file_words = []\n",
    "    \n",
    "    for line in file:\n",
    "        line_words = line.split()\n",
    "        \n",
    "        for word in line_words:\n",
    "            file_words.append(word)\n",
    "\n",
    "for word in file_words:\n",
    "    print(word)"
   ]
  },
  {
   "cell_type": "code",
   "execution_count": 7,
   "metadata": {},
   "outputs": [],
   "source": [
    "# Pentru a importa un modul (script) trb utilizat numele scriptului \"words\" fara .py\n",
    "\n",
    "# import words"
   ]
  },
  {
   "cell_type": "code",
   "execution_count": 10,
   "metadata": {},
   "outputs": [
    {
     "name": "stdout",
     "output_type": "stream",
     "text": [
      "Aceasta\n",
      "este\n",
      "prima\n",
      "linie\n",
      "de\n",
      "text\n",
      "Aceasta\n",
      "este\n",
      "a\n",
      "doua\n",
      "linie\n",
      "de\n",
      "text\n",
      "Aceasta\n",
      "este\n",
      "a\n",
      "treia\n",
      "linie\n",
      "de\n",
      "text\n"
     ]
    }
   ],
   "source": [
    "import words as w\n",
    "\n",
    "w.fetch_words()"
   ]
  },
  {
   "cell_type": "code",
   "execution_count": 11,
   "metadata": {},
   "outputs": [
    {
     "name": "stdout",
     "output_type": "stream",
     "text": [
      "Aceasta\n",
      "este\n",
      "prima\n",
      "linie\n",
      "de\n",
      "text\n",
      "Aceasta\n",
      "este\n",
      "a\n",
      "doua\n",
      "linie\n",
      "de\n",
      "text\n",
      "Aceasta\n",
      "este\n",
      "a\n",
      "treia\n",
      "linie\n",
      "de\n",
      "text\n"
     ]
    }
   ],
   "source": [
    "# sau putem sa luam fix metoda \n",
    "\n",
    "from words import fetch_words\n",
    "\n",
    "fetch_words()"
   ]
  },
  {
   "cell_type": "markdown",
   "metadata": {},
   "source": [
    "# Atribute Speciale"
   ]
  },
  {
   "cell_type": "code",
   "execution_count": 12,
   "metadata": {},
   "outputs": [
    {
     "data": {
      "text/plain": [
       "'\\n__name__ => este echivalent cu __main__ sau cu numele modulului\\n'"
      ]
     },
     "execution_count": 12,
     "metadata": {},
     "output_type": "execute_result"
    }
   ],
   "source": [
    "# acestea sunt delimitate de __name__ (double underscore)\n",
    "'''\n",
    "__name__ => este echivalent cu __main__ sau cu numele modulului\n",
    "'''\n",
    "\n"
   ]
  },
  {
   "cell_type": "code",
   "execution_count": 13,
   "metadata": {},
   "outputs": [
    {
     "name": "stdout",
     "output_type": "stream",
     "text": [
      "__main__\n"
     ]
    }
   ],
   "source": [
    "print(__name__)"
   ]
  },
  {
   "cell_type": "code",
   "execution_count": 14,
   "metadata": {},
   "outputs": [],
   "source": [
    "# dar daca punem print(__name__) la sfarsitul lu words.py\n",
    "# o sa vezi ca afiseaza si numele words:\n",
    "\n",
    "'''\n",
    "acum putem adauga in el:\n",
    "if __name__ == '__name__':\n",
    "    fetch_words()\n",
    "\n",
    "\n",
    "\n",
    "acum daca facem:\n",
    "import words\n",
    "    nu se va afisa nimic\n",
    "    \n",
    "in schimb daca rulam words.py separat\n",
    "python3 words.py o sa vezi ca apeleaza fetch_words()\n",
    "'''\n"
   ]
  },
  {
   "cell_type": "code",
   "execution_count": null,
   "metadata": {},
   "outputs": [],
   "source": []
  }
 ],
 "metadata": {
  "kernelspec": {
   "display_name": "Python 3",
   "language": "python",
   "name": "python3"
  },
  "language_info": {
   "codemirror_mode": {
    "name": "ipython",
    "version": 3
   },
   "file_extension": ".py",
   "mimetype": "text/x-python",
   "name": "python",
   "nbconvert_exporter": "python",
   "pygments_lexer": "ipython3",
   "version": "3.6.9"
  }
 },
 "nbformat": 4,
 "nbformat_minor": 2
}

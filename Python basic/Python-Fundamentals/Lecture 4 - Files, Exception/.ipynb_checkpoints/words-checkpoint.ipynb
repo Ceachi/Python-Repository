{
 "cells": [
  {
   "cell_type": "code",
   "execution_count": 1,
   "metadata": {},
   "outputs": [],
   "source": [
    "def fetch_words():\n",
    "\n",
    "   with open('t.txt') as file:\n",
    "\n",
    "       file_words = []\n",
    "\n",
    "       for line in file:\n",
    "\n",
    "           line_words = line.split()\n",
    "\n",
    "           for word in line_words:\n",
    "\n",
    "               file_words.append(word)\n",
    "\n",
    "   for word in file_words:\n",
    "\n",
    "       print(word)"
   ]
  },
  {
   "cell_type": "code",
   "execution_count": null,
   "metadata": {},
   "outputs": [],
   "source": []
  }
 ],
 "metadata": {
  "kernelspec": {
   "display_name": "Python 3",
   "language": "python",
   "name": "python3"
  },
  "language_info": {
   "codemirror_mode": {
    "name": "ipython",
    "version": 3
   },
   "file_extension": ".py",
   "mimetype": "text/x-python",
   "name": "python",
   "nbconvert_exporter": "python",
   "pygments_lexer": "ipython3",
   "version": "3.6.9"
  }
 },
 "nbformat": 4,
 "nbformat_minor": 2
}

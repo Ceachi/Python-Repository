{
 "cells": [
  {
   "cell_type": "markdown",
   "metadata": {},
   "source": [
    "# Scriere in fisiere"
   ]
  },
  {
   "cell_type": "code",
   "execution_count": 2,
   "metadata": {},
   "outputs": [
    {
     "data": {
      "text/plain": [
       "\"\\n\\n'r' = open for reading(default)\\n'w' = open for writing, truncating the file first\\n'x' = open for exclusive creating, failing if the file already exist\\n'a' = open for writing, appending to the end of the file if it exists\\n'b' = binary mode \\n't' = text mode(default)\\n'+' = open a disk file for updating(reading and writing)\\n'U' = universal newlines mode (for backwards compatibility, should not be used in new code)\\n\""
      ]
     },
     "execution_count": 2,
     "metadata": {},
     "output_type": "execute_result"
    }
   ],
   "source": [
    "'''\n",
    "\n",
    "'r' = open for reading(default)\n",
    "'w' = open for writing, truncating the file first\n",
    "'x' = open for exclusive creating, failing if the file already exist\n",
    "'a' = open for writing, appending to the end of the file if it exists\n",
    "'b' = binary mode \n",
    "'t' = text mode(default)\n",
    "'+' = open a disk file for updating(reading and writing)\n",
    "'U' = universal newlines mode (for backwards compatibility, should not be used in new code)\n",
    "'''"
   ]
  },
  {
   "cell_type": "markdown",
   "metadata": {},
   "source": [
    "# Cum scriem in fisiere"
   ]
  },
  {
   "cell_type": "code",
   "execution_count": 5,
   "metadata": {},
   "outputs": [],
   "source": [
    "f = open('textwrite.txt', mode='wt', encoding = 'utf-8')\n",
    "#utf-8 este doar un standard de codare"
   ]
  },
  {
   "cell_type": "code",
   "execution_count": 6,
   "metadata": {},
   "outputs": [
    {
     "data": {
      "text/plain": [
       "13"
      ]
     },
     "execution_count": 6,
     "metadata": {},
     "output_type": "execute_result"
    }
   ],
   "source": [
    "#scrie continutul sirului in fisier, returnand numarul de caractere scrise.\n",
    "\n",
    "f.write(\"Test linia 1,\")"
   ]
  },
  {
   "cell_type": "code",
   "execution_count": 7,
   "metadata": {},
   "outputs": [
    {
     "data": {
      "text/plain": [
       "19"
      ]
     },
     "execution_count": 7,
     "metadata": {},
     "output_type": "execute_result"
    }
   ],
   "source": [
    "f.write('continuare linia 1\\n')"
   ]
  },
  {
   "cell_type": "code",
   "execution_count": 8,
   "metadata": {},
   "outputs": [
    {
     "data": {
      "text/plain": [
       "32"
      ]
     },
     "execution_count": 8,
     "metadata": {},
     "output_type": "execute_result"
    }
   ],
   "source": [
    "f.write('Sfarsit de fisier care e linia 2')"
   ]
  },
  {
   "cell_type": "code",
   "execution_count": 9,
   "metadata": {},
   "outputs": [],
   "source": [
    "f.close()"
   ]
  },
  {
   "cell_type": "markdown",
   "metadata": {},
   "source": [
    "# Cum citim din fisiere"
   ]
  },
  {
   "cell_type": "code",
   "execution_count": 33,
   "metadata": {},
   "outputs": [],
   "source": [
    "g = open('textwrite.txt', mode = 'rt', encoding = 'utf-8')"
   ]
  },
  {
   "cell_type": "code",
   "execution_count": 34,
   "metadata": {},
   "outputs": [
    {
     "data": {
      "text/plain": [
       "'Test linia 1,c'"
      ]
     },
     "execution_count": 34,
     "metadata": {},
     "output_type": "execute_result"
    }
   ],
   "source": [
    "g.read(14) # read are ca atribut = nr de caractere citite"
   ]
  },
  {
   "cell_type": "code",
   "execution_count": 35,
   "metadata": {},
   "outputs": [
    {
     "data": {
      "text/plain": [
       "'ontinuare linia 1\\nSfarsit de fisier care e linia 2'"
      ]
     },
     "execution_count": 35,
     "metadata": {},
     "output_type": "execute_result"
    }
   ],
   "source": [
    "g.read() # citeste tot documentul"
   ]
  },
  {
   "cell_type": "code",
   "execution_count": 36,
   "metadata": {},
   "outputs": [
    {
     "data": {
      "text/plain": [
       "0"
      ]
     },
     "execution_count": 36,
     "metadata": {},
     "output_type": "execute_result"
    }
   ],
   "source": [
    "g.seek(0) # deplasare indicator in fisier"
   ]
  },
  {
   "cell_type": "code",
   "execution_count": 37,
   "metadata": {},
   "outputs": [
    {
     "data": {
      "text/plain": [
       "'Test linia 1,continuare linia 1\\n'"
      ]
     },
     "execution_count": 37,
     "metadata": {},
     "output_type": "execute_result"
    }
   ],
   "source": [
    "g.readline() # citeste pana intalneste \\n"
   ]
  },
  {
   "cell_type": "code",
   "execution_count": 38,
   "metadata": {},
   "outputs": [
    {
     "data": {
      "text/plain": [
       "['Sfarsit de fisier care e linia 2']"
      ]
     },
     "execution_count": 38,
     "metadata": {},
     "output_type": "execute_result"
    }
   ],
   "source": [
    "g.readlines() # citeste intregul fisier care il separa pe linii"
   ]
  },
  {
   "cell_type": "code",
   "execution_count": 39,
   "metadata": {},
   "outputs": [],
   "source": [
    "g.close()"
   ]
  },
  {
   "cell_type": "markdown",
   "metadata": {},
   "source": [
    "# Listarea continutului unui director"
   ]
  },
  {
   "cell_type": "code",
   "execution_count": 41,
   "metadata": {},
   "outputs": [
    {
     "name": "stdout",
     "output_type": "stream",
     "text": [
      "['Scriere in fisiere.ipynb', 'textwrite.txt']\n"
     ]
    }
   ],
   "source": [
    "from os import listdir\n",
    "from os.path import isfile, join\n",
    "\n",
    "onlyfiles = [f for f in listdir('.') if isfile(join('.',f))]\n",
    "print(onlyfiles)"
   ]
  },
  {
   "cell_type": "markdown",
   "metadata": {},
   "source": [
    "# Adaugarea de text la un fisier existent"
   ]
  },
  {
   "cell_type": "code",
   "execution_count": 44,
   "metadata": {},
   "outputs": [
    {
     "name": "stdout",
     "output_type": "stream",
     "text": [
      "['Test linia 1,continuare linia 1\\n', 'Sfarsit de fisier care e linia 2\\n', 'Alt text la fisierul existent\\n', 'A doua linie la fisierul deja existent\\n', '\\n', 'Alt text la fisierul existent\\n', 'A doua linie la fisierul deja existent\\n']\n"
     ]
    }
   ],
   "source": [
    "h = open('textwrite.txt', mode = 'at', encoding = 'utf-8')\n",
    "\n",
    "h.writelines(['\\nAlt text la fisierul existent\\n', 'A doua linie la fisierul deja existent\\n'])\n",
    "\n",
    "h.close()\n",
    "\n",
    "f = open('textwrite.txt', mode = 'r', encoding = 'utf-8')\n",
    "\n",
    "print(f.readlines())\n",
    "f.close()"
   ]
  },
  {
   "cell_type": "markdown",
   "metadata": {},
   "source": [
    "# Lucrul cu fisiere utilizand \"context manager\" in Python"
   ]
  },
  {
   "cell_type": "code",
   "execution_count": 46,
   "metadata": {},
   "outputs": [
    {
     "data": {
      "text/plain": [
       "'\\nf = open()\\n\\n#work work work\\n\\nf.close()\\n\\n'"
      ]
     },
     "execution_count": 46,
     "metadata": {},
     "output_type": "execute_result"
    }
   ],
   "source": [
    "'''\n",
    "f = open()\n",
    "\n",
    "#work work work\n",
    "\n",
    "f.close()\n",
    "\n",
    "'''"
   ]
  },
  {
   "cell_type": "code",
   "execution_count": 47,
   "metadata": {},
   "outputs": [
    {
     "name": "stdout",
     "output_type": "stream",
     "text": [
      "['Test linia 1,continuare linia 1\\n', 'Sfarsit de fisier care e linia 2\\n', 'Alt text la fisierul existent\\n', 'A doua linie la fisierul deja existent\\n', '\\n', 'Alt text la fisierul existent\\n', 'A doua linie la fisierul deja existent\\n']\n"
     ]
    }
   ],
   "source": [
    "with open('textwrite.txt', encoding = 'utf-8') as file:\n",
    "    print(file.readlines())"
   ]
  },
  {
   "cell_type": "code",
   "execution_count": null,
   "metadata": {},
   "outputs": [],
   "source": []
  }
 ],
 "metadata": {
  "kernelspec": {
   "display_name": "Python 3",
   "language": "python",
   "name": "python3"
  },
  "language_info": {
   "codemirror_mode": {
    "name": "ipython",
    "version": 3
   },
   "file_extension": ".py",
   "mimetype": "text/x-python",
   "name": "python",
   "nbconvert_exporter": "python",
   "pygments_lexer": "ipython3",
   "version": "3.6.9"
  }
 },
 "nbformat": 4,
 "nbformat_minor": 2
}

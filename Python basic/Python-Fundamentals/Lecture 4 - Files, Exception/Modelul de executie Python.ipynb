{
 "cells": [
  {
   "cell_type": "markdown",
   "metadata": {},
   "source": [
    "# Modelul de executie Python"
   ]
  },
  {
   "cell_type": "code",
   "execution_count": 2,
   "metadata": {},
   "outputs": [
    {
     "data": {
      "text/plain": [
       "'\\n\\n1) module\\n    \\n    Convenient import with API\\n\\n2) script\\n\\n    Convenient execution from command line\\n\\n3) program\\n\\n    Perhaps composed of many modules\\n    \\n'"
      ]
     },
     "execution_count": 2,
     "metadata": {},
     "output_type": "execute_result"
    }
   ],
   "source": [
    "'''\n",
    "\n",
    "1) module: o librarie, poate fii executat ca un script.\n",
    "        Singura diferenta este ca, atunci cand este importat ca modul,\n",
    "        numele fisierului este folosit ca baza pentru numele modulului.\n",
    "        Daca il executi ca script, modulul este numit __main__\n",
    "    \n",
    "    Convenient import with API\n",
    "\n",
    "2) script: bucata de cod direct executata\n",
    "\n",
    "    Convenient execution from command line\n",
    "\n",
    "3) program\n",
    "\n",
    "    Perhaps composed of many modules\n",
    "    \n",
    "'''"
   ]
  },
  {
   "cell_type": "code",
   "execution_count": null,
   "metadata": {},
   "outputs": [],
   "source": [
    "'''\n",
    "\n",
    "Aceasta distinctie face posibila o comportare diferita atunci cand este importata\n",
    "prin includerea codului specific scriptului intr-un bloc precedat de \n",
    "\n",
    "if __name__ == \"__main__\" \n",
    "\n",
    "Acest lucru, provoaca confuzie atunci cand un utilizator incearca sa importe\n",
    "modulul principal sub propriul nume, mai degraba decat sa importe __main__\n",
    "\n",
    "O diferenta minora intre scripturi si module este ca atunci cand importati un\n",
    "modul, sistemul va incerca sa utilizeze un fisier .pyc existent (cu conditia sa\n",
    "existe si actualizat pentru versiunea de Python) si daca trebuie sa compilzeze\n",
    "dintr-un .py, va incerca sa salveze un fisier .pyc. Cand executati un fisier .py\n",
    "ca script, acesta nu incearca sa incarce un modul compilat anterior si nici nu va\n",
    "incerca sa salveze codul compilat.\n",
    "\n",
    "Din acest motiv, ar putea fi util sa pastrati scripturile mici pentru a minimiza timpul\n",
    "de pornire\n",
    "\n",
    "\n",
    "\n",
    "\"Un API este un set de definitii, protocoale si instrumente de subrutina pentur construirea\n",
    "unui software de aplicatie. In termeni generali, este un set de metode clar\n",
    "definite de comunicare intre diferitele componente software. Un API bun,\n",
    "face mai usor sa dezvolte un program de calculator prin furnizarea tuturor blocurilor\n",
    "de constructie, care sunt apoi puse impreuna de catre programator\n",
    "\"\n",
    "\n",
    "\n",
    "'''"
   ]
  }
 ],
 "metadata": {
  "kernelspec": {
   "display_name": "Python 3",
   "language": "python",
   "name": "python3"
  },
  "language_info": {
   "codemirror_mode": {
    "name": "ipython",
    "version": 3
   },
   "file_extension": ".py",
   "mimetype": "text/x-python",
   "name": "python",
   "nbconvert_exporter": "python",
   "pygments_lexer": "ipython3",
   "version": "3.6.9"
  }
 },
 "nbformat": 4,
 "nbformat_minor": 2
}

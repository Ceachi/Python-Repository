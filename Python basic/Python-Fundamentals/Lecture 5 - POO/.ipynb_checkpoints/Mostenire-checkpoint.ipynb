{
 "cells": [
  {
   "cell_type": "markdown",
   "metadata": {},
   "source": [
    "# Mostenire simpla"
   ]
  },
  {
   "cell_type": "code",
   "execution_count": 3,
   "metadata": {},
   "outputs": [],
   "source": [
    "class ClasaDeBaza:\n",
    "    def __init__(self):\n",
    "        print('ClasaDeBaza init')\n",
    "    \n",
    "    def f(self):\n",
    "        print('ClasaDeBaza.f()')"
   ]
  },
  {
   "cell_type": "code",
   "execution_count": 5,
   "metadata": {},
   "outputs": [
    {
     "name": "stdout",
     "output_type": "stream",
     "text": [
      "ClasaDeBaza init\n",
      "ClasaDeBaza.f()\n"
     ]
    }
   ],
   "source": [
    "# from clasaDeBaza import ClasaDeBaza\n",
    "\n",
    "b = ClasaDeBaza()\n",
    "b.f()"
   ]
  },
  {
   "cell_type": "code",
   "execution_count": 6,
   "metadata": {},
   "outputs": [],
   "source": [
    "class Sub(ClasaDeBaza):\n",
    "    pass"
   ]
  },
  {
   "cell_type": "code",
   "execution_count": 7,
   "metadata": {},
   "outputs": [
    {
     "name": "stdout",
     "output_type": "stream",
     "text": [
      "ClasaDeBaza init\n"
     ]
    }
   ],
   "source": [
    "s = Sub()"
   ]
  },
  {
   "cell_type": "code",
   "execution_count": 8,
   "metadata": {},
   "outputs": [],
   "source": [
    "class Sub2(ClasaDeBaza):\n",
    "    \n",
    "    def f(self):\n",
    "        print(\"Sub2.f\")"
   ]
  },
  {
   "cell_type": "code",
   "execution_count": 9,
   "metadata": {},
   "outputs": [
    {
     "name": "stdout",
     "output_type": "stream",
     "text": [
      "ClasaDeBaza init\n",
      "Sub2.f\n"
     ]
    }
   ],
   "source": [
    "s = Sub2()\n",
    "\n",
    "s.f()"
   ]
  },
  {
   "cell_type": "markdown",
   "metadata": {},
   "source": [
    "# Cum se apeleaza Python initializer din clasa de baza"
   ]
  },
  {
   "cell_type": "code",
   "execution_count": 10,
   "metadata": {},
   "outputs": [],
   "source": [
    "# Alte limbaje apeleaza automat initializer-ul din clasa de baza\n",
    "# Python trateaza __init__() ca si alta metoda\n",
    "# Clasa de baza __init__() nu este chemata in Python, daca este rescrisa\n",
    "# Putem totusi chema __init__() din clasa de baza daca folosim super()"
   ]
  },
  {
   "cell_type": "code",
   "execution_count": 12,
   "metadata": {},
   "outputs": [],
   "source": [
    "class ClasaDeBaza:\n",
    "    \n",
    "    def __init__(self):\n",
    "        print('ClasaDeBaza initializer')\n",
    "    \n",
    "    def f(self):\n",
    "        print('ClasaDeBaza.f()')\n",
    "    \n",
    "\n",
    "class Sub(ClasaDeBaza):\n",
    "    \n",
    "    def __init__(self):\n",
    "        super().__init__()\n",
    "        print('sub initializer')\n",
    "        \n",
    "    def f(self):\n",
    "        super().f()\n",
    "        print('Sub.f()')\n",
    "            \n",
    "            "
   ]
  },
  {
   "cell_type": "code",
   "execution_count": 13,
   "metadata": {},
   "outputs": [
    {
     "name": "stdout",
     "output_type": "stream",
     "text": [
      "ClasaDeBaza initializer\n",
      "sub initializer\n"
     ]
    }
   ],
   "source": [
    "#from clasaDeBaza import Sub\n",
    "\n",
    "s = Sub()"
   ]
  },
  {
   "cell_type": "code",
   "execution_count": null,
   "metadata": {},
   "outputs": [],
   "source": []
  }
 ],
 "metadata": {
  "kernelspec": {
   "display_name": "Python 3",
   "language": "python",
   "name": "python3"
  },
  "language_info": {
   "codemirror_mode": {
    "name": "ipython",
    "version": 3
   },
   "file_extension": ".py",
   "mimetype": "text/x-python",
   "name": "python",
   "nbconvert_exporter": "python",
   "pygments_lexer": "ipython3",
   "version": "3.6.9"
  }
 },
 "nbformat": 4,
 "nbformat_minor": 2
}

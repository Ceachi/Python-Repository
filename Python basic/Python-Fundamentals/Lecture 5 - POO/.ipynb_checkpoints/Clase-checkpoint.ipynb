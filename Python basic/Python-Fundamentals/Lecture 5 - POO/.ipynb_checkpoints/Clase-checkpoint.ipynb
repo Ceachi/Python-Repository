{
 "cells": [
  {
   "cell_type": "code",
   "execution_count": 1,
   "metadata": {},
   "outputs": [],
   "source": [
    "# Cand importam un modul, python creaza un obiect"
   ]
  },
  {
   "cell_type": "markdown",
   "metadata": {},
   "source": [
    "# Definirea claselor"
   ]
  },
  {
   "cell_type": "code",
   "execution_count": 6,
   "metadata": {},
   "outputs": [],
   "source": [
    "#Numele claselor, utilizeaza in general conventia CapWords\n",
    "# mai multe detalii: “https://www.python.org/dev/peps/pep-0008/” "
   ]
  },
  {
   "cell_type": "code",
   "execution_count": 7,
   "metadata": {},
   "outputs": [],
   "source": [
    "class Telecom:\n",
    "    pass"
   ]
  },
  {
   "cell_type": "markdown",
   "metadata": {},
   "source": [
    "# Metodele unei clase"
   ]
  },
  {
   "cell_type": "code",
   "execution_count": 8,
   "metadata": {},
   "outputs": [
    {
     "data": {
      "text/plain": [
       "\"\\n-  self. (este un fel de 'this.') \\n\\nSelf -> este primul argument al tuturor metodelor\\nnu este special pentru cod, este doar un alt obiect\\n\""
      ]
     },
     "execution_count": 8,
     "metadata": {},
     "output_type": "execute_result"
    }
   ],
   "source": [
    "'''\n",
    "-  self. (este un fel de 'this.') \n",
    "\n",
    "Self -> este primul argument al tuturor metodelor\n",
    "nu este special pentru cod, este doar un alt obiect\n",
    "'''"
   ]
  },
  {
   "cell_type": "markdown",
   "metadata": {},
   "source": [
    "# __init__() in clasele de Python"
   ]
  },
  {
   "cell_type": "code",
   "execution_count": null,
   "metadata": {},
   "outputs": [],
   "source": [
    "# Este un initializer, not a constructor\n",
    "\n",
    "# IN python totul este public,  nu exista private/protected\n",
    "\n",
    "\n",
    "'''\n",
    "Pe scurt: nu există nici o modalitate de a avea un membru de clasă cu adevărat \"privat\" în Python. Durata de rulare pur și simplu nu suportă protecția memoriei în felul acesta, ex Java.\n",
    "Prefixul dublului subliniază numele, astfel încât acesta include numele clasei în care este folosit (ex, __total ar deveni __Balance__total), dar acest lucru este utilizat în principal pentru a permite ca subclasele să definească nume care par la fel, dar referă la diferite câmpuri.\n",
    "Convenția standard din Python este să folosești un prefix de subliniere - _total - pentru membrii clasei care ar trebui să fie tratați ca fiind \"privați\" sau \"protejați\", apoi să ai încredere că ceilalți dezvoltatori vor fi adulți și să respecte (desigur, \"întotdeauna o presupunere sigură ...)\n",
    "\n",
    "\n",
    "'''"
   ]
  }
 ],
 "metadata": {
  "kernelspec": {
   "display_name": "Python 3",
   "language": "python",
   "name": "python3"
  },
  "language_info": {
   "codemirror_mode": {
    "name": "ipython",
    "version": 3
   },
   "file_extension": ".py",
   "mimetype": "text/x-python",
   "name": "python",
   "nbconvert_exporter": "python",
   "pygments_lexer": "ipython3",
   "version": "3.6.9"
  }
 },
 "nbformat": 4,
 "nbformat_minor": 2
}

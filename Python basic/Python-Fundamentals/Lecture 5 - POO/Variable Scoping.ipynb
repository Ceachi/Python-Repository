{
 "cells": [
  {
   "cell_type": "markdown",
   "metadata": {},
   "source": [
    "# Variable Scoping"
   ]
  },
  {
   "cell_type": "code",
   "execution_count": 2,
   "metadata": {},
   "outputs": [
    {
     "data": {
      "text/plain": [
       "'\\nPython Name Scopes:\\n\\nLocal --> Inside the current function\\nEnclosing --> Any and all enclosing functions\\nGlobal --> Top-level of module\\nBuild-int --> Provider by the builtins module\\n'"
      ]
     },
     "execution_count": 2,
     "metadata": {},
     "output_type": "execute_result"
    }
   ],
   "source": [
    "'''\n",
    "Python Name Scopes:\n",
    "\n",
    "Local --> Inside the current function\n",
    "Enclosing --> Any and all enclosing functions\n",
    "Global --> Top-level of module\n",
    "Build-int --> Provider by the builtins module\n",
    "'''"
   ]
  },
  {
   "cell_type": "markdown",
   "metadata": {},
   "source": [
    "# GLOBAL"
   ]
  },
  {
   "cell_type": "code",
   "execution_count": 4,
   "metadata": {},
   "outputs": [],
   "source": [
    "count  = 0\n",
    "\n",
    "def show_count():\n",
    "    print(\"count = \", count)\n",
    "\n",
    "def set_count(c):\n",
    "    count = c\n",
    "\n",
    "'''\n",
    "> from scopes import *\n",
    "> show_count()\n",
    "    count = 0\n",
    "> set_count(5)\n",
    "> show_count()\n",
    "    count = 0\n",
    "'''\n",
    "\n",
    "\n",
    "\n",
    "'''\n",
    "\n",
    "Se poate observa, cum \"count\" nu a fost modificat, deoarece aceasta nu este globala\n",
    "\n",
    "Cum putem modifica programul sa il facem global?\n",
    "\n",
    "'''\n",
    "\n",
    "\n",
    "\n",
    "count  = 0\n",
    "\n",
    "def show_count():\n",
    "    print(\"count = \", count)\n",
    "\n",
    "def set_count(c):\n",
    "    global count\n",
    "    count = c"
   ]
  },
  {
   "cell_type": "code",
   "execution_count": null,
   "metadata": {},
   "outputs": [],
   "source": []
  }
 ],
 "metadata": {
  "kernelspec": {
   "display_name": "Python 3",
   "language": "python",
   "name": "python3"
  },
  "language_info": {
   "codemirror_mode": {
    "name": "ipython",
    "version": 3
   },
   "file_extension": ".py",
   "mimetype": "text/x-python",
   "name": "python",
   "nbconvert_exporter": "python",
   "pygments_lexer": "ipython3",
   "version": "3.6.9"
  }
 },
 "nbformat": 4,
 "nbformat_minor": 2
}

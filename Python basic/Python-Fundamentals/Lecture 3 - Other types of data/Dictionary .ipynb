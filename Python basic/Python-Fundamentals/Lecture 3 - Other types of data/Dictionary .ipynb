{
 "cells": [
  {
   "cell_type": "markdown",
   "metadata": {},
   "source": [
    "# Dictionarele sunt delimintate de {}, iar cheile de \":\"\n"
   ]
  },
  {
   "cell_type": "code",
   "execution_count": 2,
   "metadata": {},
   "outputs": [
    {
     "name": "stdout",
     "output_type": "stream",
     "text": [
      "<class 'list'>\n",
      "{'Alice': 32, 'Bob': 48, 'Charlie': 28, 'Daniel': 33}\n"
     ]
    }
   ],
   "source": [
    "# Exemplu 1:\n",
    "\n",
    "names_and_ages = [('Alice', 32), ('Bob', 48), ('Charlie', 28), ('Daniel', 33)]\n",
    "\n",
    "print(type(names_and_ages))\n",
    "\n",
    "d = dict(names_and_ages)\n",
    "\n",
    "print(d)"
   ]
  },
  {
   "cell_type": "code",
   "execution_count": 3,
   "metadata": {},
   "outputs": [
    {
     "name": "stdout",
     "output_type": "stream",
     "text": [
      "{'GOOG': 891, 'AAPL': 416, 'IBM': 194}\n"
     ]
    }
   ],
   "source": [
    "stocks = {'GOOG': 891, 'AAPL':416, 'IBM':194}\n",
    "print(stocks)"
   ]
  },
  {
   "cell_type": "markdown",
   "metadata": {},
   "source": [
    "# Modificare Dictionar"
   ]
  },
  {
   "cell_type": "code",
   "execution_count": 5,
   "metadata": {},
   "outputs": [
    {
     "name": "stdout",
     "output_type": "stream",
     "text": [
      "{'GOOG': 894, 'AAPL': 416, 'IBM': 194, 'YHOO': 25}\n"
     ]
    }
   ],
   "source": [
    "stocks.update({'GOOG':894, 'YHOO':25}) #extinde dictionarul adaugand YHOO si modifica GOOG\n",
    "print(stocks)"
   ]
  },
  {
   "cell_type": "code",
   "execution_count": 6,
   "metadata": {},
   "outputs": [
    {
     "data": {
      "text/plain": [
       "894"
      ]
     },
     "execution_count": 6,
     "metadata": {},
     "output_type": "execute_result"
    }
   ],
   "source": [
    "stocks['GOOG']"
   ]
  },
  {
   "cell_type": "code",
   "execution_count": 7,
   "metadata": {},
   "outputs": [],
   "source": [
    "# Ordinea este arbitrara in dictionar, dar tot putem folosi del, pt ca luam dupa cheie"
   ]
  },
  {
   "cell_type": "code",
   "execution_count": 8,
   "metadata": {},
   "outputs": [
    {
     "name": "stdout",
     "output_type": "stream",
     "text": [
      "{'GOOG': 894, 'AAPL': 416, 'YHOO': 25}\n"
     ]
    }
   ],
   "source": [
    "del stocks['IBM']\n",
    "print(stocks)"
   ]
  },
  {
   "cell_type": "markdown",
   "metadata": {},
   "source": [
    "# Parcurgeri"
   ]
  },
  {
   "cell_type": "code",
   "execution_count": 10,
   "metadata": {},
   "outputs": [
    {
     "name": "stdout",
     "output_type": "stream",
     "text": [
      "894\n",
      "416\n",
      "25\n"
     ]
    }
   ],
   "source": [
    "for value in stocks.values():\n",
    "    print(value)"
   ]
  },
  {
   "cell_type": "code",
   "execution_count": 11,
   "metadata": {},
   "outputs": [
    {
     "name": "stdout",
     "output_type": "stream",
     "text": [
      "GOOG\n",
      "AAPL\n",
      "YHOO\n"
     ]
    }
   ],
   "source": [
    "for key in stocks.keys():\n",
    "    print(key)"
   ]
  },
  {
   "cell_type": "code",
   "execution_count": 15,
   "metadata": {},
   "outputs": [
    {
     "name": "stdout",
     "output_type": "stream",
     "text": [
      "GOOG => 894\n",
      "AAPL => 416\n",
      "YHOO => 25\n"
     ]
    }
   ],
   "source": [
    "# items() returneaza o copie a listei de perechi\n",
    "# (chei, valori) ale dictionarului, iar conditia este valabila pt toate perechile\n",
    "\n",
    "for key, value in stocks.items():\n",
    "    print(\"{key} => {value}\".format(key=key, value=value))\n",
    "    \n",
    "    \n",
    "# items in acest caz, inseamna ca elementele sunt iterabile\n",
    "# si la fieca iteratie se obtine un Tuplu\n",
    "# Folosind Tuplu unpacking, obtinem valorile in key si value pe care le printam"
   ]
  },
  {
   "cell_type": "code",
   "execution_count": 16,
   "metadata": {},
   "outputs": [],
   "source": [
    "# Operatorii \"in\" si \"not in\" in dictionar lucreaza pe key"
   ]
  },
  {
   "cell_type": "markdown",
   "metadata": {},
   "source": [
    "# Cautari prin dictionar"
   ]
  },
  {
   "cell_type": "code",
   "execution_count": 17,
   "metadata": {},
   "outputs": [
    {
     "data": {
      "text/plain": [
       "True"
      ]
     },
     "execution_count": 17,
     "metadata": {},
     "output_type": "execute_result"
    }
   ],
   "source": [
    "\"GOOG\" in stocks"
   ]
  },
  {
   "cell_type": "code",
   "execution_count": 18,
   "metadata": {},
   "outputs": [
    {
     "data": {
      "text/plain": [
       "False"
      ]
     },
     "execution_count": 18,
     "metadata": {},
     "output_type": "execute_result"
    }
   ],
   "source": [
    "\"GOOGLE\" in stocks\n"
   ]
  },
  {
   "cell_type": "code",
   "execution_count": 19,
   "metadata": {},
   "outputs": [
    {
     "data": {
      "text/plain": [
       "True"
      ]
     },
     "execution_count": 19,
     "metadata": {},
     "output_type": "execute_result"
    }
   ],
   "source": [
    "\"GOOGLE\" not in stocks"
   ]
  },
  {
   "cell_type": "code",
   "execution_count": 23,
   "metadata": {},
   "outputs": [
    {
     "name": "stdout",
     "output_type": "stream",
     "text": [
      "{'IBM': 194, 'AAPL': 416, 'GOOG': '895'}\n"
     ]
    }
   ],
   "source": [
    "stocks = {'IBM': 194, 'YHOO': 25, 'AAPL': 416, 'GOOG': '895'}\n",
    "\n",
    "del stocks['YHOO']\n",
    "\n",
    "print(stocks)"
   ]
  },
  {
   "cell_type": "markdown",
   "metadata": {},
   "source": [
    "# Metodele remove(), discard(), pop() nu pot fi utilizate pt dictionare"
   ]
  },
  {
   "cell_type": "code",
   "execution_count": null,
   "metadata": {},
   "outputs": [],
   "source": [
    "# Doar del functioneaza pentru Dictionare"
   ]
  }
 ],
 "metadata": {
  "kernelspec": {
   "display_name": "Python 3",
   "language": "python",
   "name": "python3"
  },
  "language_info": {
   "codemirror_mode": {
    "name": "ipython",
    "version": 3
   },
   "file_extension": ".py",
   "mimetype": "text/x-python",
   "name": "python",
   "nbconvert_exporter": "python",
   "pygments_lexer": "ipython3",
   "version": "3.6.9"
  }
 },
 "nbformat": 4,
 "nbformat_minor": 2
}

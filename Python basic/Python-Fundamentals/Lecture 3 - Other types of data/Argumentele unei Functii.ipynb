{
 "cells": [
  {
   "cell_type": "markdown",
   "metadata": {},
   "source": [
    "# Argument Default"
   ]
  },
  {
   "cell_type": "code",
   "execution_count": 2,
   "metadata": {},
   "outputs": [],
   "source": [
    "def banner(message, border='-'):\n",
    "    line = border * len(message)\n",
    "    print(line)\n",
    "    print(message)\n",
    "    print(line)"
   ]
  },
  {
   "cell_type": "code",
   "execution_count": 3,
   "metadata": {},
   "outputs": [
    {
     "name": "stdout",
     "output_type": "stream",
     "text": [
      "--------------\n",
      "Norwegian Blue\n",
      "--------------\n"
     ]
    }
   ],
   "source": [
    "banner(\"Norwegian Blue\")"
   ]
  },
  {
   "cell_type": "code",
   "execution_count": 4,
   "metadata": {},
   "outputs": [
    {
     "name": "stdout",
     "output_type": "stream",
     "text": [
      "*******************\n",
      "Sun, Moon and Stars\n",
      "*******************\n"
     ]
    }
   ],
   "source": [
    "banner(\"Sun, Moon and Stars\", \"*\")"
   ]
  },
  {
   "cell_type": "code",
   "execution_count": 6,
   "metadata": {},
   "outputs": [
    {
     "name": "stdout",
     "output_type": "stream",
     "text": [
      "................\n",
      "Hello from Earth\n",
      "................\n"
     ]
    }
   ],
   "source": [
    "# Atributele de intrare pot fii scrise in orice ordine\n",
    "# Cu conditia sa oferim explicit si corespondenta dintre atributul functiei\n",
    "# si valoarea pe care dorim sa o folosim ca atribut de intrare\n",
    "\n",
    "banner(border=\".\", message=\"Hello from Earth\")"
   ]
  },
  {
   "cell_type": "markdown",
   "metadata": {},
   "source": [
    "# Positional argument and keyword argument"
   ]
  },
  {
   "cell_type": "code",
   "execution_count": 8,
   "metadata": {},
   "outputs": [
    {
     "data": {
      "text/plain": [
       "'\\n* args, **kwargs ==> in functii, este utilizate pentru a transmite un numar\\n                    variabil de argumente catre o functie.\\n(*args)=> utilizata pentru a transmite o lista de argumente non-keyword\\n          de lungime variabila\\n\\n(**args)=> pt a transmite o lista de argumente keyword cu lungime variabila.\\n\\n\\n'"
      ]
     },
     "execution_count": 8,
     "metadata": {},
     "output_type": "execute_result"
    }
   ],
   "source": [
    "'''\n",
    "* args, **kwargs ==> in functii, este utilizate pentru a transmite un numar\n",
    "                    variabil de argumente catre o functie.\n",
    "(*args)=> utilizata pentru a transmite o lista de argumente non-keyword\n",
    "          de lungime variabila\n",
    "\n",
    "(**args)=> pt a transmite o lista de argumente keyword cu lungime variabila.\n",
    "\n",
    "\n",
    "'''"
   ]
  },
  {
   "cell_type": "code",
   "execution_count": 10,
   "metadata": {},
   "outputs": [],
   "source": [
    "# functie ce poate avea o lista variabila de argumente pozitionale\n",
    "def hypervolume(*args):\n",
    "    print(args)\n",
    "    print(type(args))\n",
    "    "
   ]
  },
  {
   "cell_type": "code",
   "execution_count": 11,
   "metadata": {},
   "outputs": [
    {
     "name": "stdout",
     "output_type": "stream",
     "text": [
      "(3, 4)\n",
      "<class 'tuple'>\n"
     ]
    }
   ],
   "source": [
    "hypervolume(3,4) "
   ]
  },
  {
   "cell_type": "code",
   "execution_count": 12,
   "metadata": {},
   "outputs": [
    {
     "name": "stdout",
     "output_type": "stream",
     "text": [
      "(3, 4, 5)\n",
      "<class 'tuple'>\n"
     ]
    }
   ],
   "source": [
    "hypervolume(3,4,5)"
   ]
  },
  {
   "cell_type": "code",
   "execution_count": 15,
   "metadata": {},
   "outputs": [],
   "source": [
    "# functie care are ca prim atribut name, apoi poate avea ca atribut o lista variabila\n",
    "def tag(name, **kwargs):\n",
    "    print(name)\n",
    "    print(type(kwargs))\n",
    "    print(kwargs)"
   ]
  },
  {
   "cell_type": "code",
   "execution_count": 16,
   "metadata": {},
   "outputs": [
    {
     "name": "stdout",
     "output_type": "stream",
     "text": [
      "img\n",
      "<class 'dict'>\n",
      "{'src': 'monet.jpg', 'alt': 'Sunrise by Claude Monet', 'border': 1}\n"
     ]
    }
   ],
   "source": [
    "tag('img', src=\"monet.jpg\", alt=\"Sunrise by Claude Monet\", border = 1)"
   ]
  },
  {
   "cell_type": "markdown",
   "metadata": {},
   "source": [
    "# Mai multe exemple folosind *args si **kwargs"
   ]
  },
  {
   "cell_type": "code",
   "execution_count": 19,
   "metadata": {},
   "outputs": [
    {
     "ename": "SyntaxError",
     "evalue": "invalid syntax (<ipython-input-19-9d131ffe0b65>, line 2)",
     "output_type": "error",
     "traceback": [
      "\u001b[1;36m  File \u001b[1;32m\"<ipython-input-19-9d131ffe0b65>\"\u001b[1;36m, line \u001b[1;32m2\u001b[0m\n\u001b[1;33m    def pring_args(**kwargs, *args):\u001b[0m\n\u001b[1;37m                             ^\u001b[0m\n\u001b[1;31mSyntaxError\u001b[0m\u001b[1;31m:\u001b[0m invalid syntax\n"
     ]
    }
   ],
   "source": [
    "# deci vezi ca *args trb pus inainte\n",
    "def pring_args(**kwargs, *args):\n",
    "    print(args)"
   ]
  },
  {
   "cell_type": "code",
   "execution_count": 20,
   "metadata": {},
   "outputs": [],
   "source": [
    "def print_args(arg1, arg2, *args):\n",
    "    print(arg1)\n",
    "    print(arg2)\n",
    "    print(args)"
   ]
  },
  {
   "cell_type": "code",
   "execution_count": 21,
   "metadata": {},
   "outputs": [
    {
     "name": "stdout",
     "output_type": "stream",
     "text": [
      "1\n",
      "2\n",
      "(3, 4, 5)\n"
     ]
    }
   ],
   "source": [
    "print_args(1,2,3,4,5)"
   ]
  },
  {
   "cell_type": "code",
   "execution_count": 23,
   "metadata": {},
   "outputs": [],
   "source": [
    "def print_args(arg1, arg2, *args, kwarg1, kwarg2):\n",
    "    print(arg1)\n",
    "    print(arg2)\n",
    "    print(args)\n",
    "    print(kwarg1)\n",
    "    print(kwarg2)"
   ]
  },
  {
   "cell_type": "code",
   "execution_count": 24,
   "metadata": {},
   "outputs": [
    {
     "name": "stdout",
     "output_type": "stream",
     "text": [
      "1\n",
      "2\n",
      "(3, 4, 5)\n",
      "6\n",
      "7\n"
     ]
    }
   ],
   "source": [
    "print_args(1,2,3,4,5, kwarg1=6, kwarg2=7)"
   ]
  },
  {
   "cell_type": "code",
   "execution_count": 25,
   "metadata": {},
   "outputs": [
    {
     "ename": "TypeError",
     "evalue": "print_args() missing 2 required keyword-only arguments: 'kwarg1' and 'kwarg2'",
     "output_type": "error",
     "traceback": [
      "\u001b[1;31m---------------------------------------------------------------------------\u001b[0m",
      "\u001b[1;31mTypeError\u001b[0m                                 Traceback (most recent call last)",
      "\u001b[1;32m<ipython-input-25-3688a301fd37>\u001b[0m in \u001b[0;36m<module>\u001b[1;34m\u001b[0m\n\u001b[1;32m----> 1\u001b[1;33m \u001b[0mprint_args\u001b[0m\u001b[1;33m(\u001b[0m\u001b[1;36m1\u001b[0m\u001b[1;33m,\u001b[0m\u001b[1;36m2\u001b[0m\u001b[1;33m,\u001b[0m\u001b[1;36m3\u001b[0m\u001b[1;33m,\u001b[0m\u001b[1;36m4\u001b[0m\u001b[1;33m,\u001b[0m\u001b[1;36m5\u001b[0m\u001b[1;33m,\u001b[0m\u001b[1;36m6\u001b[0m\u001b[1;33m,\u001b[0m\u001b[1;36m7\u001b[0m\u001b[1;33m)\u001b[0m\u001b[1;33m\u001b[0m\u001b[1;33m\u001b[0m\u001b[0m\n\u001b[0m",
      "\u001b[1;31mTypeError\u001b[0m: print_args() missing 2 required keyword-only arguments: 'kwarg1' and 'kwarg2'"
     ]
    }
   ],
   "source": [
    "print_args(1,2,3,4,5,6,7)"
   ]
  },
  {
   "cell_type": "code",
   "execution_count": 29,
   "metadata": {},
   "outputs": [],
   "source": [
    "def print_args(arg1,arg2,*args,kwarg1,kwarg2,**kwargs):\n",
    "    print(arg1)\n",
    "    print(arg2)\n",
    "    print(args)\n",
    "    print(kwarg1)\n",
    "    print(kwarg2)\n",
    "    print(kwargs)"
   ]
  },
  {
   "cell_type": "code",
   "execution_count": 31,
   "metadata": {},
   "outputs": [
    {
     "name": "stdout",
     "output_type": "stream",
     "text": [
      "1\n",
      "2\n",
      "(3, 4, 5)\n",
      "6\n",
      "7\n",
      "{'kwarg3': 8, 'kwarg4': 9}\n"
     ]
    }
   ],
   "source": [
    "print_args(1,2,3,4,5,kwarg1=6,kwarg2=7,kwarg3=8,kwarg4=9)"
   ]
  },
  {
   "cell_type": "code",
   "execution_count": 32,
   "metadata": {},
   "outputs": [
    {
     "ename": "SyntaxError",
     "evalue": "invalid syntax (<ipython-input-32-4baf6fe0ae94>, line 1)",
     "output_type": "error",
     "traceback": [
      "\u001b[1;36m  File \u001b[1;32m\"<ipython-input-32-4baf6fe0ae94>\"\u001b[1;36m, line \u001b[1;32m1\u001b[0m\n\u001b[1;33m    print_args(arg1,arg2,*args,kwarg1,kwarg2,**kwargs,kwargs99):\u001b[0m\n\u001b[1;37m                                                                ^\u001b[0m\n\u001b[1;31mSyntaxError\u001b[0m\u001b[1;31m:\u001b[0m invalid syntax\n"
     ]
    }
   ],
   "source": [
    "print_args(arg1,arg2,*args,kwarg1,kwarg2,**kwargs,kwargs99):"
   ]
  },
  {
   "cell_type": "code",
   "execution_count": null,
   "metadata": {},
   "outputs": [],
   "source": []
  }
 ],
 "metadata": {
  "kernelspec": {
   "display_name": "Python 3",
   "language": "python",
   "name": "python3"
  },
  "language_info": {
   "codemirror_mode": {
    "name": "ipython",
    "version": 3
   },
   "file_extension": ".py",
   "mimetype": "text/x-python",
   "name": "python",
   "nbconvert_exporter": "python",
   "pygments_lexer": "ipython3",
   "version": "3.6.9"
  }
 },
 "nbformat": 4,
 "nbformat_minor": 2
}

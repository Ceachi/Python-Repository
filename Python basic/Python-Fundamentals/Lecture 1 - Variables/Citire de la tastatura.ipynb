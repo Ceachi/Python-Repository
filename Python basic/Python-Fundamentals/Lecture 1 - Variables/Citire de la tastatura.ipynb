{
 "cells": [
  {
   "cell_type": "code",
   "execution_count": 5,
   "metadata": {},
   "outputs": [
    {
     "name": "stdout",
     "output_type": "stream",
     "text": [
      "Please enter your nameTata\n",
      "Imi pare bine sa te cunosc Tata\n",
      "Please enter your age20\n",
      "your age is = 20\n"
     ]
    }
   ],
   "source": [
    "response = input(\"Please enter your name\")\n",
    "\n",
    "print(\"Imi pare bine sa te cunosc \" + response)\n",
    "\n",
    "age = input(\"Please enter your age\")\n",
    "\n",
    "print(\"your age is = \" + str(age))"
   ]
  },
  {
   "cell_type": "raw",
   "metadata": {},
   "source": [
    "# in python2, we use raw_input() instead of input()"
   ]
  },
  {
   "cell_type": "code",
   "execution_count": null,
   "metadata": {},
   "outputs": [],
   "source": []
  }
 ],
 "metadata": {
  "kernelspec": {
   "display_name": "Python 3",
   "language": "python",
   "name": "python3"
  },
  "language_info": {
   "codemirror_mode": {
    "name": "ipython",
    "version": 3
   },
   "file_extension": ".py",
   "mimetype": "text/x-python",
   "name": "python",
   "nbconvert_exporter": "python",
   "pygments_lexer": "ipython3",
   "version": "3.6.9"
  }
 },
 "nbformat": 4,
 "nbformat_minor": 2
}

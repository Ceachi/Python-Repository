{
 "cells": [
  {
   "cell_type": "markdown",
   "metadata": {},
   "source": [
    "#  Teorie despre  Modulul FTP"
   ]
  },
  {
   "cell_type": "code",
   "execution_count": 2,
   "metadata": {},
   "outputs": [
    {
     "data": {
      "text/plain": [
       "'\\n\\nAcest modul definește clasa FTP și câteva elemente conexe. \\nClasa FTP implementează partea client a protocolului FTP.\\nPuteți folosi asta pentru a scrie programe Python care efectuează o \\nvarietate de lucrări FTP automate, cum ar fi oglindirea altor servere FTP. \\nEste, de asemenea, folosit de modulul urllib pentru a gestiona adresele URL \\ncare utilizează FTP. Pentru mai multe informații despre FTP \\n(File Transfer Protocol), consultați Internet RFC 959.\\n\\n'"
      ]
     },
     "execution_count": 2,
     "metadata": {},
     "output_type": "execute_result"
    }
   ],
   "source": [
    "'''\n",
    "\n",
    "Acest modul definește clasa FTP și câteva elemente conexe. \n",
    "Clasa FTP implementează partea client a protocolului FTP.\n",
    "Puteți folosi asta pentru a scrie programe Python care efectuează o \n",
    "varietate de lucrări FTP automate, cum ar fi oglindirea altor servere FTP. \n",
    "Este, de asemenea, folosit de modulul urllib pentru a gestiona adresele URL \n",
    "care utilizează FTP. Pentru mai multe informații despre FTP \n",
    "(File Transfer Protocol), consultați Internet RFC 959.\n",
    "\n",
    "'''"
   ]
  },
  {
   "cell_type": "markdown",
   "metadata": {},
   "source": [
    "## Laborator despre modulul FTP"
   ]
  },
  {
   "cell_type": "code",
   "execution_count": 4,
   "metadata": {},
   "outputs": [
    {
     "ename": "SyntaxError",
     "evalue": "invalid character in identifier (<ipython-input-4-ff68770d9d10>, line 5)",
     "output_type": "error",
     "traceback": [
      "\u001b[1;36m  File \u001b[1;32m\"<ipython-input-4-ff68770d9d10>\"\u001b[1;36m, line \u001b[1;32m5\u001b[0m\n\u001b[1;33m    ftp.login(‘anonymous’,’anonymouse’)\u001b[0m\n\u001b[1;37m                        ^\u001b[0m\n\u001b[1;31mSyntaxError\u001b[0m\u001b[1;31m:\u001b[0m invalid character in identifier\n"
     ]
    }
   ],
   "source": [
    "from ftplib import FTP\n",
    "\n",
    "ftp = FTP('ftp.iinet.net.au')\n",
    "\n",
    "ftp.login(‘anonymous’,’anonymouse’)\n",
    "\n",
    "ftp.retrlines('LIST')\n",
    "\n",
    "ftp.retrbinary('RETR welcome.msg', open('welcome.txt', 'wb').write)\n",
    "\n",
    "ftp.quit()"
   ]
  },
  {
   "cell_type": "code",
   "execution_count": 5,
   "metadata": {},
   "outputs": [
    {
     "data": {
      "text/plain": [
       "'\\nAtenție fișierele text pot fi transferate atat ASCII cât și binary restul doar binary.\\n\\nPentru a uploada un fișier codul este mai jos:\\n'"
      ]
     },
     "execution_count": 5,
     "metadata": {},
     "output_type": "execute_result"
    }
   ],
   "source": [
    "'''\n",
    "Atenție fișierele text pot fi transferate atat ASCII cât și binary restul doar binary.\n",
    "\n",
    "Pentru a uploada un fișier codul este mai jos:\n",
    "'''"
   ]
  },
  {
   "cell_type": "code",
   "execution_count": 6,
   "metadata": {},
   "outputs": [
    {
     "ename": "SyntaxError",
     "evalue": "invalid syntax (<ipython-input-6-05176bee9562>, line 5)",
     "output_type": "error",
     "traceback": [
      "\u001b[1;36m  File \u001b[1;32m\"<ipython-input-6-05176bee9562>\"\u001b[1;36m, line \u001b[1;32m5\u001b[0m\n\u001b[1;33m    >>> ftp.storbinary('STOR myfile.txt', open('myfile.txt', 'rb'))\u001b[0m\n\u001b[1;37m     ^\u001b[0m\n\u001b[1;31mSyntaxError\u001b[0m\u001b[1;31m:\u001b[0m invalid syntax\n"
     ]
    }
   ],
   "source": [
    "from ftplib import FTP \n",
    "\n",
    "ftp = FTP(ftp_host, ftp_user, ftp_pass)\n",
    "\n",
    ">>> ftp.storbinary('STOR myfile.txt', open('myfile.txt', 'rb')) "
   ]
  },
  {
   "cell_type": "code",
   "execution_count": null,
   "metadata": {},
   "outputs": [],
   "source": []
  }
 ],
 "metadata": {
  "kernelspec": {
   "display_name": "Python 3",
   "language": "python",
   "name": "python3"
  },
  "language_info": {
   "codemirror_mode": {
    "name": "ipython",
    "version": 3
   },
   "file_extension": ".py",
   "mimetype": "text/x-python",
   "name": "python",
   "nbconvert_exporter": "python",
   "pygments_lexer": "ipython3",
   "version": "3.6.9"
  }
 },
 "nbformat": 4,
 "nbformat_minor": 2
}

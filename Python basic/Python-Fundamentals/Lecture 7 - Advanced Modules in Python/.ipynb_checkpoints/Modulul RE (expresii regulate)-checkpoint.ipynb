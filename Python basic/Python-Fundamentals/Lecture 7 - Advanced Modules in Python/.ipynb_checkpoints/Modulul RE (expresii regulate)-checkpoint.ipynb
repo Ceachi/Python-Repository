{
 "cells": [
  {
   "cell_type": "markdown",
   "metadata": {},
   "source": [
    "## Modulul RE(expresii regulate)"
   ]
  },
  {
   "cell_type": "code",
   "execution_count": 1,
   "metadata": {},
   "outputs": [
    {
     "data": {
      "text/plain": [
       "'\\nAcest modul oferă operații de potrivire a expresiilor regulate similare \\ncu cele din Perl. Ambele sabloane și șiruri de caractere care pot fi căutate\\npot fi șiruri de caractere Unicode, precum și șiruri de caractere pe 8 biți.\\n\\nExpresiile regulate utilizează caracterul backslash (\"\") pentru a indica\\nformulare speciale sau pentru a permite utilizarea caracterelor speciale\\nfără a invoca semnificația lor specială.\\n\\nSoluția este de a folosi notația string-ului Python pentru șirul de expresii \\nregulate; backslash-urile nu sunt tratate în mod special într-un șir literal\\nprefixat cu \\'r\\'. Deci r\"n\" este un șir cu două caractere care conține \\'\\' și \\'n\\',\\nîn timp ce\"n\" este un șir de caractere cu un singur caracter care conține o \\nlinie nouă. De obicei, modelele vor fi exprimate în codul Python folosind \\naceastă notație de șir brut. \\n\\n\\nCăutăm/Înlocuim un șablon în text folosind re.search care are două argumente, \\nșablon și textul de căutat. Tot în exemplu de mai jos se poate vedea că din\\nrezultatul returnat de re.search se poate afla poziția unde apare paternul\\nîn stringul de căutat. Mai jos se pot vedea exemple:\\n\\n'"
      ]
     },
     "execution_count": 1,
     "metadata": {},
     "output_type": "execute_result"
    }
   ],
   "source": [
    "'''\n",
    "Acest modul oferă operații de potrivire a expresiilor regulate similare \n",
    "cu cele din Perl. Ambele sabloane și șiruri de caractere care pot fi căutate\n",
    "pot fi șiruri de caractere Unicode, precum și șiruri de caractere pe 8 biți.\n",
    "\n",
    "Expresiile regulate utilizează caracterul backslash (\"\\\") pentru a indica\n",
    "formulare speciale sau pentru a permite utilizarea caracterelor speciale\n",
    "fără a invoca semnificația lor specială.\n",
    "\n",
    "Soluția este de a folosi notația string-ului Python pentru șirul de expresii \n",
    "regulate; backslash-urile nu sunt tratate în mod special într-un șir literal\n",
    "prefixat cu 'r'. Deci r\"n\" este un șir cu două caractere care conține '' și 'n',\n",
    "în timp ce\"n\" este un șir de caractere cu un singur caracter care conține o \n",
    "linie nouă. De obicei, modelele vor fi exprimate în codul Python folosind \n",
    "această notație de șir brut. \n",
    "\n",
    "\n",
    "\n",
    "Articole interesante (eu):\n",
    "\n",
    "https://www.guru99.com/python-regular-expressions-complete-tutorial.html\n",
    "\n",
    "\n",
    "Căutăm/Înlocuim un șablon în text folosind re.search care are două argumente, \n",
    "șablon și textul de căutat. Tot în exemplu de mai jos se poate vedea că din\n",
    "rezultatul returnat de re.search se poate afla poziția unde apare paternul\n",
    "în stringul de căutat. Mai jos se pot vedea exemple:\n",
    "\n",
    "'''"
   ]
  },
  {
   "cell_type": "code",
   "execution_count": 4,
   "metadata": {},
   "outputs": [
    {
     "name": "stdout",
     "output_type": "stream",
     "text": [
      "Folosim functia search din regexp ne ajuta sa cautam dacaun text (la inceput) se gaseste in alt text \n",
      "\n",
      "\n",
      "Cautam paternul \"aici\" in textul \"aici invatam Python regular expression, pe care le putem folosi acolo in exercitii\" -> \n",
      "\n",
      "\n",
      "Cautam paternul \"acolo\" in textul \"aici invatam Python regular expression, pe care le putem folosi acolo in exercitii\" -> \n",
      "\n",
      "\n",
      "se potriveste\n"
     ]
    }
   ],
   "source": [
    "print(\"Folosim functia search din regexp ne ajuta sa cautam daca\" +\n",
    "    \"un text (la inceput) se gaseste in alt text \\n\\n\")\n",
    "\n",
    "import re\n",
    "\n",
    "paternuri = ['aici', 'acolo']\n",
    "\n",
    "text = 'aici invatam Python regular expression, pe care le putem folosi acolo in exercitii'\n",
    "\n",
    "for patern in paternuri:\n",
    "    print('Cautam paternul \"%s\" in textul \"%s\" -> \\n\\n' % (patern, text))\n",
    "    \n",
    "if re.search(patern, text): print(\"se potriveste\")\n",
    "else: print(\"nu se potriveste\")\n",
    "    \n",
    "    \n",
    "paternuri = 'aici'\n",
    "\n",
    "text = 'aici invatam Python regular expresion, pe care le putem folosi acolo in exercitii, aici putem invata'     "
   ]
  },
  {
   "cell_type": "code",
   "execution_count": 5,
   "metadata": {},
   "outputs": [
    {
     "name": "stdout",
     "output_type": "stream",
     "text": [
      "0\n",
      "4\n",
      "Gasim \"aici\" in \"aici invatam Python regular expresion, pe care le putem folosi acolo in exercitii, aici putem invata\" de la 0 pana la 4 (\"aici\")\n"
     ]
    }
   ],
   "source": [
    "paternuri = 'aici'\n",
    "\n",
    "text = 'aici invatam Python regular expresion, pe care le putem folosi acolo in exercitii, aici putem invata'\n",
    "\n",
    "potrivire = re.search(paternuri, text)\n",
    "\n",
    "start = potrivire.start()\n",
    "end = potrivire.end()\n",
    "\n",
    "print(start)\n",
    "print(end)\n",
    "\n",
    "\n",
    "print('Gasim \"%s\" in \"%s\" de la %d pana la %d (\"%s\")' % \\\n",
    "\n",
    "   (potrivire.re.pattern, potrivire.string, start, end, text[start:end]))\n"
   ]
  },
  {
   "cell_type": "markdown",
   "metadata": {},
   "source": [
    "## Alt exemplu cu Re"
   ]
  },
  {
   "cell_type": "code",
   "execution_count": 7,
   "metadata": {},
   "outputs": [
    {
     "name": "stdout",
     "output_type": "stream",
     "text": [
      "Found \"ab\"\n",
      "Found \"ab\"\n"
     ]
    }
   ],
   "source": [
    "import re\n",
    "\n",
    "text = 'abbaaabbbbaaaaa'\n",
    "\n",
    "pattern = 'ab'\n",
    "\n",
    "for match in re.findall(pattern, text):\n",
    "\n",
    "  print('Found \"%s\"' % match)\n"
   ]
  },
  {
   "cell_type": "markdown",
   "metadata": {},
   "source": [
    "## Clase de caractere speciale (coduri de evadare)"
   ]
  },
  {
   "cell_type": "code",
   "execution_count": 9,
   "metadata": {},
   "outputs": [
    {
     "data": {
      "text/plain": [
       "'\\n\\\\d - digit\\n\\n\\\\D - non-digit\\n\\n\\\\s - whitespace (tab, space, newline, etc.)\\n\\n\\\\w - alphanumeric\\n\\n\\\\W - non-alphanumeric\\n\\n\\n'"
      ]
     },
     "execution_count": 9,
     "metadata": {},
     "output_type": "execute_result"
    }
   ],
   "source": [
    "'''\n",
    "\\d - digit\n",
    "\n",
    "\\D - non-digit\n",
    "\n",
    "\\s - whitespace (tab, space, newline, etc.)\n",
    "\n",
    "\\w - alphanumeric\n",
    "\n",
    "\\W - non-alphanumeric\n",
    "\n",
    "\n",
    "'''"
   ]
  },
  {
   "cell_type": "markdown",
   "metadata": {},
   "source": [
    "## Ancorare"
   ]
  },
  {
   "cell_type": "markdown",
   "metadata": {},
   "source": [
    "'''\n",
    " \n",
    "\n",
    "Pe lângă descrierea conținutului unui șablon care se potrivește, puteți specifica locația relativă în textul de intrare unde modelul ar trebui să apară utilizând instrucțiunile de ancorare.\n",
    "\n",
    " \n",
    "\n",
    "^ - început de string sau linie\n",
    "\n",
    "$ - sfârșit de string sau linie\n",
    "\n",
    "\\A - începutul unui string\n",
    "\n",
    "\\Z - sfârșitul unui string\n",
    "\n",
    "\\b - empty string at the beginning or end of a word\n",
    "\n",
    "\\B - empty string not at the beginning or end of a word\n",
    "\n",
    "\n",
    "'''"
   ]
  },
  {
   "cell_type": "markdown",
   "metadata": {},
   "source": [
    "## Exemplu 1"
   ]
  },
  {
   "cell_type": "code",
   "execution_count": 12,
   "metadata": {},
   "outputs": [
    {
     "name": "stdout",
     "output_type": "stream",
     "text": [
      "Text: Acesta este un text unde o sa cautam un cuvant in tot textul.\n",
      "  15 : 18 = \"text\"\n",
      "  54 : 59 = \"textul\"\n"
     ]
    }
   ],
   "source": [
    "import re\n",
    "\n",
    "text = 'Acesta este un text unde o sa cautam un cuvant in tot textul.'\n",
    "\n",
    "pattern = re.compile(r'\\b\\w*text\\w*\\b')\n",
    "\n",
    "print('Text:', text)\n",
    "\n",
    "print\n",
    "\n",
    "pos = 0\n",
    "\n",
    "while True:\n",
    "\n",
    "   match = pattern.search(text, pos)\n",
    "\n",
    "   if not match:\n",
    "\n",
    "       break\n",
    "\n",
    "   s = match.start()\n",
    "\n",
    "   e = match.end()\n",
    "\n",
    "   print('  %2d : %2d = \"%s\"' % \\\n",
    "\n",
    "       (s, e-1, text[s:e]))\n",
    "\n",
    "   # Move forward in text for the next search\n",
    "\n",
    "   pos = e"
   ]
  },
  {
   "cell_type": "markdown",
   "metadata": {},
   "source": [
    "## Exemplu 2"
   ]
  },
  {
   "cell_type": "code",
   "execution_count": 15,
   "metadata": {},
   "outputs": [
    {
     "name": "stdout",
     "output_type": "stream",
     "text": [
      "This is some text -- with punctuation.\n",
      "Matching \"^(\\w+)\"\n",
      "   ('This',)\n",
      "Matching \"(\\w+)\\S*$\"\n",
      "   ('punctuation',)\n",
      "Matching \"(\\bt\\w+)\\W+(\\w+)\"\n",
      "   ('text', 'with')\n",
      "Matching \"(\\w+t)\\b\"\n",
      "   ('text',)\n"
     ]
    }
   ],
   "source": [
    "import re\n",
    "\n",
    "text = 'This is some text -- with punctuation.'\n",
    "\n",
    "print(text)\n",
    "\n",
    "print\n",
    "\n",
    "for pattern in [ r'^(\\w+)',           # word at start of string\n",
    "\n",
    "                r'(\\w+)\\S*$',        # word at end of string, with optional punctuation\n",
    "\n",
    "                r'(\\bt\\w+)\\W+(\\w+)', # word starting with 't' then another word\n",
    "\n",
    "                r'(\\w+t)\\b',         # word ending with 't'\n",
    "\n",
    "                ]:\n",
    "\n",
    "   regex = re.compile(pattern)\n",
    "\n",
    "   match = regex.search(text)\n",
    "\n",
    "   print('Matching \"%s\"' % pattern)\n",
    "\n",
    "   print('  ', match.groups())\n",
    "\n",
    "   print"
   ]
  },
  {
   "cell_type": "markdown",
   "metadata": {},
   "source": [
    "## Exemplu 3 Creați un program care să facă individual grouping regexp"
   ]
  },
  {
   "cell_type": "code",
   "execution_count": 17,
   "metadata": {},
   "outputs": [
    {
     "name": "stdout",
     "output_type": "stream",
     "text": [
      "Input text            : This is some text -- with punctuation.\n",
      "Pattern               : (\\bt\\w+)\\W+(\\w+)\n",
      "Entire match          : text -- with\n",
      "Word starting with \"t\": text\n",
      "Word after \"t\" word   : with\n"
     ]
    }
   ],
   "source": [
    "import re\n",
    "\n",
    "text = 'This is some text -- with punctuation.'\n",
    "\n",
    "print('Input text            :', text)\n",
    "\n",
    "# word starting with 't' then another word\n",
    "\n",
    "regex = re.compile(r'(\\bt\\w+)\\W+(\\w+)')\n",
    "\n",
    "print('Pattern               :', regex.pattern)\n",
    "\n",
    " \n",
    "\n",
    "match = regex.search(text)\n",
    "\n",
    "print('Entire match          :', match.group(0))\n",
    "\n",
    "print('Word starting with \"t\":', match.group(1))\n",
    "\n",
    "print('Word after \"t\" word   :', match.group(2))"
   ]
  },
  {
   "cell_type": "markdown",
   "metadata": {},
   "source": [
    "## Exemplu 4"
   ]
  },
  {
   "cell_type": "code",
   "execution_count": 19,
   "metadata": {},
   "outputs": [
    {
     "name": "stdout",
     "output_type": "stream",
     "text": [
      "Text            : This is some text -- with punctuation.\n",
      "Pattern         : \\bT\\w+\n",
      "Case-sensitive  : ['This']\n",
      "Case-insensitive: ['This', 'text']\n"
     ]
    }
   ],
   "source": [
    "import re\n",
    "\n",
    "text = 'This is some text -- with punctuation.'\n",
    "\n",
    "pattern = r'\\bT\\w+'\n",
    "\n",
    "with_case = re.compile(pattern)\n",
    "\n",
    "without_case = re.compile(pattern, re.IGNORECASE)\n",
    "\n",
    " \n",
    "\n",
    "print('Text            :', text)\n",
    "\n",
    "print('Pattern         :', pattern)\n",
    "\n",
    "print('Case-sensitive  :', with_case.findall(text))\n",
    "\n",
    "print('Case-insensitive:', without_case.findall(text))"
   ]
  },
  {
   "cell_type": "code",
   "execution_count": null,
   "metadata": {},
   "outputs": [],
   "source": []
  }
 ],
 "metadata": {
  "kernelspec": {
   "display_name": "Python 3",
   "language": "python",
   "name": "python3"
  },
  "language_info": {
   "codemirror_mode": {
    "name": "ipython",
    "version": 3
   },
   "file_extension": ".py",
   "mimetype": "text/x-python",
   "name": "python",
   "nbconvert_exporter": "python",
   "pygments_lexer": "ipython3",
   "version": "3.6.9"
  }
 },
 "nbformat": 4,
 "nbformat_minor": 2
}

{
 "cells": [
  {
   "cell_type": "markdown",
   "metadata": {},
   "source": [
    "## Modulul Py2exe si crearea unui installer"
   ]
  },
  {
   "cell_type": "raw",
   "metadata": {},
   "source": [
    "Py2exe este o extensie Python Distutils care convertește scripturile Python în programe Windows executabile, capabile să ruleze fără a necesita instalarea Python.\n",
    " \n",
    "\n",
    "Py2exe a fost inițial dezvoltat de Thomas Heller, care încă face contribuții. Jimmy Retzlaff și Mark Hammond au făcut, de asemenea, contribuții. Contribuțiile la cod sunt întotdeauna binevenite in comunitate și mulți oameni oferă un ajutor neprețuit pe lista de discuții și pe Wiki."
   ]
  },
  {
   "cell_type": "code",
   "execution_count": 6,
   "metadata": {},
   "outputs": [
    {
     "name": "stdout",
     "output_type": "stream",
     "text": [
      "Hello World!\n"
     ]
    },
    {
     "ename": "SystemExit",
     "evalue": "usage: ipykernel_launcher.py [global_opts] cmd1 [cmd1_opts] [cmd2 [cmd2_opts] ...]\n   or: ipykernel_launcher.py --help [cmd1 cmd2 ...]\n   or: ipykernel_launcher.py --help-commands\n   or: ipykernel_launcher.py cmd --help\n\nerror: option -f not recognized",
     "output_type": "error",
     "traceback": [
      "An exception has occurred, use %tb to see the full traceback.\n",
      "\u001b[1;31mSystemExit\u001b[0m\u001b[1;31m:\u001b[0m usage: ipykernel_launcher.py [global_opts] cmd1 [cmd1_opts] [cmd2 [cmd2_opts] ...]\n   or: ipykernel_launcher.py --help [cmd1 cmd2 ...]\n   or: ipykernel_launcher.py --help-commands\n   or: ipykernel_launcher.py cmd --help\n\nerror: option -f not recognized\n"
     ]
    },
    {
     "name": "stderr",
     "output_type": "stream",
     "text": [
      "C:\\Users\\Ceachi\\Anaconda3\\envs\\pythonfundamentals\\lib\\site-packages\\IPython\\core\\interactiveshell.py:3327: UserWarning: To exit: use 'exit', 'quit', or Ctrl-D.\n",
      "  warn(\"To exit: use 'exit', 'quit', or Ctrl-D.\", stacklevel=1)\n"
     ]
    }
   ],
   "source": [
    "# hello.py\n",
    "\n",
    "print(\"Hello World!\")\n",
    "\n",
    "# setup.py\n",
    "\n",
    "from distutils.core import setup\n",
    "\n",
    "import py2exe\n",
    "\n",
    "setup(console=['hello.py'])"
   ]
  },
  {
   "cell_type": "raw",
   "metadata": {},
   "source": [
    "python setup.py py2exe\n",
    "running py2exe\n",
    "*** searching for required modules ***\n",
    "*** parsing results ***\n",
    "creating python loader for extension 'zlib'\n",
    "creating python loader for extension 'unicodedata'\n",
    "creating python loader for extension 'bz2'\n",
    "*** finding dlls needed ***\n",
    "*** create binaries ***\n",
    "*** byte compile python files ***\n",
    "byte-compiling C:\\Tutorial\\build\\bdist.win32\\winexe\\temp\\bz2.py to bz2.pyc\n",
    "byte-compiling C:\\Tutorial\\build\\bdist.win32\\winexe\\temp\\unicodedata.py to unicodedata.pyc\n",
    "byte-compiling C:\\Tutorial\\build\\bdist.win32\\winexe\\temp\\zlib.py to zlib.pyc\n",
    "skipping byte-compilation of c:\\Python24\\lib\\StringIO.py to StringIO.pyc\n",
    "\n",
    "[skipping many lines for brevity]\n",
    "\n",
    "skipping byte-compilation of c:\\Python24\\lib\\warnings.py to warnings.pyc\n",
    "*** copy extensions ***\n",
    "*** copy dlls ***\n",
    "copying c:\\Python24\\lib\\site-packages\\py2exe\\run.exe -> C:\\Tutorial\\dist\\hello.exe\n",
    "\n",
    "*** binary dependencies ***\n",
    "Your executable(s) also depend on these dlls which are not included,\n",
    "you may or may not need to distribute them.\n",
    "\n",
    "Make sure you have the license if you distribute any of them, and\n",
    "make sure you don't distribute files belonging to the operating system.\n",
    "\n",
    "   ADVAPI32.dll - C:\\WINDOWS\\system32\\ADVAPI32.dll\n",
    "   USER32.dll - C:\\WINDOWS\\system32\\USER32.dll\n",
    "   SHELL32.dll - C:\\WINDOWS\\system32\\SHELL32.dll\n",
    "   KERNEL32.dll - C:\\WINDOWS\\system32\\KERNEL32.dll"
   ]
  }
 ],
 "metadata": {
  "kernelspec": {
   "display_name": "Python 3",
   "language": "python",
   "name": "python3"
  },
  "language_info": {
   "codemirror_mode": {
    "name": "ipython",
    "version": 3
   },
   "file_extension": ".py",
   "mimetype": "text/x-python",
   "name": "python",
   "nbconvert_exporter": "python",
   "pygments_lexer": "ipython3",
   "version": "3.6.9"
  }
 },
 "nbformat": 4,
 "nbformat_minor": 2
}

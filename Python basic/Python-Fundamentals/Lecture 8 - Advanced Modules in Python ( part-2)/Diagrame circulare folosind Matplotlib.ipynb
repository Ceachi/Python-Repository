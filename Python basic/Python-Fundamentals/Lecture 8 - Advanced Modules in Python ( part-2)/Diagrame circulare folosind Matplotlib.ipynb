{
 "cells": [
  {
   "cell_type": "markdown",
   "metadata": {},
   "source": [
    "### Diagrame circulare folosind Matplotlib"
   ]
  },
  {
   "cell_type": "markdown",
   "metadata": {},
   "source": [
    "matplotlib.pyplot.pie(x, explode=None, labels=None, colors=None, autopct=None, pctdistance=0.6, shadow=False, labeldistance=1.1, startangle=None, radius=None, counterclock=True, wedgeprops=None, textprops=None, center=(0, 0), frame=False, rotatelabels=False, hold=None, data=None)"
   ]
  },
  {
   "cell_type": "raw",
   "metadata": {},
   "source": [
    "Parametri:\n",
    "x: array-like\n",
    "\n",
    "Matricea de intrare folosită pentru a realiza diagrama circulară.\n",
    "\n",
    "explode: array-like, opțional, implicit: None\n",
    "\n",
    "Dacă nu este None, este o matrice len(x) care specifică fracțiunea razei cu care să se compenseze fiecare sector.\n",
    "\n",
    "labels: lista, opțional, implicit: None\n",
    "\n",
    "O secvență de șiruri care furnizează etichetele pentru fiecare sector\n",
    "\n",
    "colors: array-like, opțional, implicit: None\n",
    "\n",
    "O secvență de culori matplotlib prin care definim culorile graficului diagramei circulare. Dacă nu există, vor fi utilizate culorile din ciclul curent activ.\n",
    "\n",
    "autopct : None (implicită), șir sau funcție, opțional\n",
    "\n",
    "Dacă nu este None, este un șir sau o funcție folosită pentru a eticheta sectorul cu valoarea lor numerică. Eticheta va fi plasată în interiorul sectorului. Dacă este un șir format, eticheta va fi fmt% pct. Dacă este o funcție, va fi apelată.\n",
    "\n",
    "pctdistance: float, opțional, implicit: 0.6\n",
    "\n",
    "Raportul dintre centrul fiecărui sector al diagramei și începutul textului generat de autopct. Ignorat dacă opțiunea de autopct este None.\n",
    "\n",
    "shadow: bool, opțional, implicit: Fals\n",
    "\n",
    "Trageți o umbră sub diagramă.\n",
    "\n",
    "labeldistance: float, opțional, implicit: 1.1\n",
    "\n",
    "Distanța radială la care sunt desenate etichetele sectoarelor\n",
    "\n",
    "startangle: float, opțional, implicit: None\n",
    "\n",
    "Dacă nu există niciunul, rotește începutul diagramei cu unghiuri în sens invers acelor de ceasornic din axa x.\n",
    "\n",
    "radius: float, opțional, implicit: None\n",
    "\n",
    "Raza plăcii, dacă raza este None, va fi setată la 1.\n",
    "\n",
    "counterclock: bool, opțional, implicit: True\n",
    "\n",
    "Specificați direcția fracțiunilor, în sens orar sau în sens antiorar.\n",
    "\n",
    "textprops: dict, opțional, implicit: None\n",
    "\n",
    "Dictat de argumente pentru a trece la obiectele de text.\n",
    "\n",
    "center: listă float, opțional, implicit: (0, 0)\n",
    "\n",
    "Poziția centrală a graficului. Are valoare (0, 0) sau este o secvență de 2 scalare.\n",
    "\n",
    "frame: bool, opțional, implicit: Fals\n",
    "\n",
    "Plotați axele cadrului cu graficul dacă este adevărat.\n",
    "\n",
    "rotatelabels : bool, opțional, implicit: False\n",
    "\n",
    "Rotiți fiecare etichetă în unghiul unei părți corespunzătoare dacă este adevărată."
   ]
  },
  {
   "cell_type": "code",
   "execution_count": 2,
   "metadata": {},
   "outputs": [
    {
     "data": {
      "image/png": "[encoded data removed]",
      "text/plain": [
       "<Figure size 432x288 with 1 Axes>"
      ]
     },
     "metadata": {},
     "output_type": "display_data"
    }
   ],
   "source": [
    "import matplotlib.pyplot as plt\n",
    "\n",
    "slices = [7,2,2,13]\n",
    "\n",
    "activities = ['dormit','mancat','munca','joaca']\n",
    "\n",
    "cols = ['c','m','r','b']\n",
    "\n",
    "plt.pie(slices,\n",
    "\n",
    "       labels=activities,\n",
    "\n",
    "       colors=cols,\n",
    "\n",
    "       startangle=90,\n",
    "\n",
    "       shadow= True,\n",
    "\n",
    "       autopct='%.2f%%')\n",
    "\n",
    "plt.title('Activitatile zilnice\\nActivitati pe durata unei zile')\n",
    "\n",
    "plt.show()"
   ]
  },
  {
   "cell_type": "code",
   "execution_count": null,
   "metadata": {},
   "outputs": [],
   "source": []
  }
 ],
 "metadata": {
  "kernelspec": {
   "display_name": "Python 3",
   "language": "python",
   "name": "python3"
  },
  "language_info": {
   "codemirror_mode": {
    "name": "ipython",
    "version": 3
   },
   "file_extension": ".py",
   "mimetype": "text/x-python",
   "name": "python",
   "nbconvert_exporter": "python",
   "pygments_lexer": "ipython3",
   "version": "3.6.9"
  }
 },
 "nbformat": 4,
 "nbformat_minor": 2
}

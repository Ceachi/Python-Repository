{
 "cells": [
  {
   "cell_type": "markdown",
   "metadata": {},
   "source": [
    "### Diagrama prin puncte folosind Matplotlib"
   ]
  },
  {
   "cell_type": "markdown",
   "metadata": {},
   "source": [
    "matplotlib.pyplot.scatter(x, y, s=None, c=None, marker=None, cmap=None, norm=None, vmin=None, vmax=None, alpha=None, linewidths=None, verts=None, edgecolors=None, hold=None, data=None, **kwargs)"
   ]
  },
  {
   "cell_type": "markdown",
   "metadata": {},
   "source": [
    "Marimea marcatorului este scalată de s și culoarea marcatorului este mapată la c."
   ]
  },
  {
   "cell_type": "markdown",
   "metadata": {},
   "source": [
    "### Parametrii"
   ]
  },
  {
   "cell_type": "raw",
   "metadata": {},
   "source": [
    "x, y: array_like, forma (n,)\n",
    "\n",
    "Date de intrare\n",
    "\n",
    "s: scalar sau array_like, shape (n,), optional\n",
    "\n",
    "dimensiunea în punctele ^ 2. Implicit este rcParams ['lines.markersize'] ** 2.\n",
    "\n",
    "c: culoare, secvență sau secvență de culoare, opțional, implicit: \"b\"\n",
    "\n",
    "c poate fi un șir de format dintr-o singură culoare sau o secvență de specificații de culoare cu lungimea N sau o secvență de numere N care urmează să fie mapată la culori utilizând cmap și norma specificată prin kwargs (a se vedea mai jos). Rețineți că c nu ar trebui să fie o singură secvență numerică RGB sau RGBA, deoarece aceasta nu poate fi distinsă de o serie de valori care trebuie să fie colorate. c poate fi o matrice 2-D în care rândurile sunt RGB sau RGBA, cu toate acestea, inclusiv cazul unui singur rând pentru a specifica aceeași culoare pentru toate punctele.\n",
    "\n",
    "marker: MarkerStyle, opțional, implicit: 'o'\n",
    "\n",
    "Consultați marcajele pentru mai multe informații despre diferitele stiluri ale suporturilor de dispersie ale marcatorilor. Markerul poate fi fie o instanță a clasei, fie o scurtă descriere a textului pentru un anumit marker.\n",
    "\n",
    "cmap: Colormap, opțional, implicit: None\n",
    "\n",
    "O instanță Colormap sau nume înregistrat. cmap este utilizat numai dacă c este o serie de flotoare. Dacă nu există, implicit la rc image.cmap.\n",
    "\n",
    "norm: Normalizare, opțională, implicită: None\n",
    "\n",
    "O instanță Normalize este folosită pentru a scala datele de luminanță la 0, 1. norma este utilizată numai dacă c este o serie de flotoare. Dacă nu există, utilizați normalizați implicit ().\n",
    "\n",
    "vmin, vmax: scalar, opțional, implicit: None\n",
    "\n",
    "vmin și vmax sunt utilizate împreună cu norma pentru a normaliza datele de luminanță. Dacă sunt None, sunt utilizate min și max de matrice de culori. Rețineți dacă treceți o instanță normală, setările pentru vmin și vmax vor fi ignorate.\n",
    "\n",
    "alfa: scalar, opțional, implicit: None\n",
    "\n",
    "Valoarea de amestecare alfa, între 0 (transparent) și 1 (opac)\n",
    "\n",
    "linewidths: scalar sau array_like, opțional, implicit: Nici unul\n",
    "\n",
    "Dacă nu există niciunul, implicit va fi (lines.linewidth,).\n",
    "\n",
    "verts: secvența lui (x, y), opțională\n",
    "\n",
    "Dacă marcatorul este None, aceste noduri vor fi folosite pentru a construi marker-ul. Centrul markerului este situat la (0,0) în unități normalizate. Marcatorul global este redimensionat de s."
   ]
  },
  {
   "cell_type": "code",
   "execution_count": 4,
   "metadata": {},
   "outputs": [
    {
     "data": {
      "image/png": "[encoded data removed]",
      "text/plain": [
       "<Figure size 432x288 with 1 Axes>"
      ]
     },
     "metadata": {
      "needs_background": "light"
     },
     "output_type": "display_data"
    }
   ],
   "source": [
    "\n",
    "import matplotlib.pyplot as plt\n",
    "\n",
    "x = [1,2,3,4,5,6,7,8]\n",
    "y = [5,2,4,2,1,4,5,2]\n",
    "\n",
    "plt.scatter(x,y, label='skitscat', color='k', s=25, marker=\"o\")\n",
    "\n",
    "plt.xlabel('x')\n",
    "plt.ylabel('y')\n",
    "plt.title('Scatter graph\\nUtilizam pentru a vedea cum se strang valorile')\n",
    "plt.legend()\n",
    "plt.show()"
   ]
  },
  {
   "cell_type": "code",
   "execution_count": null,
   "metadata": {},
   "outputs": [],
   "source": []
  }
 ],
 "metadata": {
  "kernelspec": {
   "display_name": "Python 3",
   "language": "python",
   "name": "python3"
  },
  "language_info": {
   "codemirror_mode": {
    "name": "ipython",
    "version": 3
   },
   "file_extension": ".py",
   "mimetype": "text/x-python",
   "name": "python",
   "nbconvert_exporter": "python",
   "pygments_lexer": "ipython3",
   "version": "3.6.9"
  }
 },
 "nbformat": 4,
 "nbformat_minor": 2
}
